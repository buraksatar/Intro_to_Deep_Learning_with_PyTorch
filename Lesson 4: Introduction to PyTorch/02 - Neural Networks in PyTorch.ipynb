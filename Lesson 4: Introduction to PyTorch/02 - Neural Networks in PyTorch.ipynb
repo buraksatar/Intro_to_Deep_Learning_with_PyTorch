{
 "cells": [
  {
   "cell_type": "code",
   "execution_count": 1,
   "metadata": {},
   "outputs": [],
   "source": [
    "# Import necessary packages\n",
    "\n",
    "%matplotlib inline\n",
    "%config InlineBackend.figure_format = 'retina'\n",
    "\n",
    "import numpy as np\n",
    "import torch\n",
    "\n",
    "import helper\n",
    "\n",
    "import matplotlib.pyplot as plt"
   ]
  },
  {
   "cell_type": "markdown",
   "metadata": {},
   "source": [
    "We will work on MNIST dataset."
   ]
  },
  {
   "cell_type": "code",
   "execution_count": 4,
   "metadata": {},
   "outputs": [
    {
     "name": "stdout",
     "output_type": "stream",
     "text": [
      "Downloading http://yann.lecun.com/exdb/mnist/train-images-idx3-ubyte.gz to /home/burak/.pytorch/MNIST_data/MNIST/raw/train-images-idx3-ubyte.gz\n"
     ]
    },
    {
     "name": "stderr",
     "output_type": "stream",
     "text": [
      "100.1%"
     ]
    },
    {
     "name": "stdout",
     "output_type": "stream",
     "text": [
      "Extracting /home/burak/.pytorch/MNIST_data/MNIST/raw/train-images-idx3-ubyte.gz to /home/burak/.pytorch/MNIST_data/MNIST/raw\n"
     ]
    },
    {
     "name": "stderr",
     "output_type": "stream",
     "text": [
      "28.4%"
     ]
    },
    {
     "name": "stdout",
     "output_type": "stream",
     "text": [
      "Downloading http://yann.lecun.com/exdb/mnist/train-labels-idx1-ubyte.gz to /home/burak/.pytorch/MNIST_data/MNIST/raw/train-labels-idx1-ubyte.gz\n"
     ]
    },
    {
     "name": "stderr",
     "output_type": "stream",
     "text": [
      "0.5%5%"
     ]
    },
    {
     "name": "stdout",
     "output_type": "stream",
     "text": [
      "Extracting /home/burak/.pytorch/MNIST_data/MNIST/raw/train-labels-idx1-ubyte.gz to /home/burak/.pytorch/MNIST_data/MNIST/raw\n",
      "Downloading http://yann.lecun.com/exdb/mnist/t10k-images-idx3-ubyte.gz to /home/burak/.pytorch/MNIST_data/MNIST/raw/t10k-images-idx3-ubyte.gz\n"
     ]
    },
    {
     "name": "stderr",
     "output_type": "stream",
     "text": [
      "100.4%"
     ]
    },
    {
     "name": "stdout",
     "output_type": "stream",
     "text": [
      "Extracting /home/burak/.pytorch/MNIST_data/MNIST/raw/t10k-images-idx3-ubyte.gz to /home/burak/.pytorch/MNIST_data/MNIST/raw\n",
      "Downloading http://yann.lecun.com/exdb/mnist/t10k-labels-idx1-ubyte.gz to /home/burak/.pytorch/MNIST_data/MNIST/raw/t10k-labels-idx1-ubyte.gz\n"
     ]
    },
    {
     "name": "stderr",
     "output_type": "stream",
     "text": [
      "180.4%"
     ]
    },
    {
     "name": "stdout",
     "output_type": "stream",
     "text": [
      "Extracting /home/burak/.pytorch/MNIST_data/MNIST/raw/t10k-labels-idx1-ubyte.gz to /home/burak/.pytorch/MNIST_data/MNIST/raw\n",
      "Processing...\n",
      "Done!\n"
     ]
    }
   ],
   "source": [
    "from torchvision import datasets, transforms\n",
    "\n",
    "# Define a transform to normalize the data\n",
    "transform = transforms.Compose([\n",
    "                transforms.ToTensor(),\n",
    "                transforms.Normalize((0.5,), (0.5,))\n",
    "    ,])\n",
    "\n",
    "# Download and load the training data\n",
    "trainset = datasets.MNIST('~/.pytorch/MNIST_data/',\n",
    "                          download=True, \n",
    "                          train=True,\n",
    "                          transform=transform)\n",
    "\n",
    "trainloader = torch.utils.data.DataLoader(trainset,\n",
    "                                          batch_size=64,\n",
    "                                          shuffle=True)"
   ]
  },
  {
   "cell_type": "code",
   "execution_count": 5,
   "metadata": {},
   "outputs": [
    {
     "name": "stdout",
     "output_type": "stream",
     "text": [
      "<class 'torch.Tensor'>\n",
      "torch.Size([64, 1, 28, 28])\n",
      "torch.Size([64])\n"
     ]
    }
   ],
   "source": [
    "dataiter = iter(trainloader)\n",
    "images, labels = dataiter.next()\n",
    "print(type(images))\n",
    "print(images.shape)\n",
    "print(labels.shape)"
   ]
  },
  {
   "cell_type": "code",
   "execution_count": 7,
   "metadata": {},
   "outputs": [
    {
     "data": {
      "image/png": "[encoded data removed]",
      "text/plain": [
       "<matplotlib.figure.Figure at 0x7fa7797567b8>"
      ]
     },
     "metadata": {
      "image/png": {
       "height": 250,
       "width": 253
      },
      "needs_background": "light"
     },
     "output_type": "display_data"
    }
   ],
   "source": [
    "# this is what one of the images looks like\n",
    "plt.imshow(images[1].numpy().squeeze(), cmap='Greys_r');"
   ]
  },
  {
   "cell_type": "markdown",
   "metadata": {},
   "source": [
    "**Exercise**\n",
    "\n",
    "Flatten the batch of images. Then build a multi-layer network with 784 input units, 256 hidden units, and 10 output units using random tensors for the weights and biases. Use a sigmoid for the hidden layer. Leave the output layer without an activation."
   ]
  },
  {
   "cell_type": "code",
   "execution_count": 11,
   "metadata": {},
   "outputs": [],
   "source": [
    "def activation(x):\n",
    "    \"\"\"\n",
    "    Sigmoid activation function\n",
    "    \n",
    "    Arguments:\n",
    "    ----------\n",
    "    x: torch.Tensor\n",
    "    \"\"\"\n",
    "    return 1/(1 + torch.exp(-x))"
   ]
  },
  {
   "cell_type": "code",
   "execution_count": 16,
   "metadata": {},
   "outputs": [
    {
     "name": "stdout",
     "output_type": "stream",
     "text": [
      "tensor([[-1.3186e+01, -5.2869e+00, -1.0274e+00, -1.6740e+01,  3.2063e+00,\n",
      "          3.1632e+00, -1.1621e+01,  6.8253e+00, -7.7569e+00,  9.2609e-01],\n",
      "        [-1.5823e+01, -1.7527e+01, -5.4647e+00, -8.0834e+00,  3.8156e+00,\n",
      "          7.0907e+00, -1.2223e+01,  7.3206e+00, -9.8826e+00,  1.6660e+00],\n",
      "        [-2.1080e+01, -4.3867e+00, -2.6884e+00, -5.8596e+00,  1.6368e+00,\n",
      "          8.5140e+00, -6.2207e+00, -1.3904e+00, -7.6963e+00, -2.5249e+00],\n",
      "        [-1.0299e+01, -8.7972e+00,  2.7784e-02, -2.5853e+00,  9.7968e+00,\n",
      "          1.1251e+01, -8.0748e+00,  3.9160e+00, -1.1829e+01,  6.3546e+00],\n",
      "        [-2.4729e+00, -5.9470e+00, -3.4232e-01, -1.2412e+01,  4.3817e+00,\n",
      "          1.4825e+01, -8.1368e+00, -6.5531e-01, -8.5463e+00,  6.5399e-01],\n",
      "        [-2.3483e+00, -1.8648e+00, -4.7596e+00, -1.2813e+00,  1.4123e+01,\n",
      "          7.9988e+00, -1.1193e+01,  4.7217e+00, -7.5940e+00, -8.2192e+00],\n",
      "        [-1.7440e+01, -6.2234e+00,  2.0982e+00, -1.3586e+00,  3.6512e+00,\n",
      "          1.1087e+00,  1.7675e+00,  7.8255e+00, -9.1950e+00,  1.7984e-01],\n",
      "        [-1.3025e+01,  5.1853e+00, -1.6524e+00, -1.3061e+01, -2.4221e+00,\n",
      "         -2.8383e-01, -5.8518e+00, -3.8962e+00, -1.8689e+01,  3.0313e+00],\n",
      "        [-1.4906e+01, -6.3896e+00, -1.9507e-01,  1.3819e+00,  3.1514e+00,\n",
      "          1.4246e+01, -1.1390e+01, -1.3958e+01, -3.2972e+00,  1.7310e+00],\n",
      "        [-2.0991e+01, -4.6626e+00,  1.5277e+00,  2.8530e+00,  4.2949e+00,\n",
      "          5.4772e+00, -4.6761e+00, -9.6610e+00, -1.3288e+01,  5.2769e+00],\n",
      "        [-1.8904e+01, -7.9785e+00, -9.7160e-01, -9.6880e+00,  1.1012e+01,\n",
      "          1.2197e+00, -3.9877e+00, -1.2635e+00, -1.1157e+01, -1.0300e+01],\n",
      "        [-1.5386e+01,  8.9576e-02,  5.3349e+00, -3.8905e+00,  1.1307e+01,\n",
      "          1.1072e+01, -1.0095e+01, -1.2377e+01, -1.4372e+01, -1.3129e+00],\n",
      "        [-1.1740e+01,  5.4247e-01, -3.3085e+00, -1.0929e+01,  5.4375e+00,\n",
      "          7.2354e+00, -1.0245e+01, -2.4193e+00, -1.7714e+01,  1.8780e+00],\n",
      "        [-1.0591e+01,  3.2531e+00,  4.1301e+00, -1.2159e+01,  1.2626e+01,\n",
      "          5.5215e+00,  4.7491e+00,  5.5053e+00, -1.2988e+01, -3.8551e+00],\n",
      "        [-1.2449e+01, -1.2085e+01, -1.1910e+01, -2.1590e+00,  5.8398e+00,\n",
      "          1.2236e+01, -8.4064e-01,  6.6928e-01, -1.2711e+01,  3.4418e+00],\n",
      "        [-2.1602e+01,  3.9690e+00, -6.6897e+00, -1.5736e+01,  7.5613e+00,\n",
      "          7.9936e+00, -6.5438e+00, -4.2678e+00, -9.9269e+00,  4.1117e+00],\n",
      "        [-1.4850e+01, -1.0543e+01, -4.9694e+00, -1.4205e+01,  8.2596e+00,\n",
      "          4.0298e+00, -8.0994e+00,  3.1138e+00, -1.2445e+01, -6.1647e+00],\n",
      "        [-5.6796e+00, -1.3271e+01, -7.1023e+00, -1.4263e+01,  3.7210e+00,\n",
      "          3.6943e+00, -1.2113e+00,  5.5908e+00, -9.9558e+00, -7.2423e+00],\n",
      "        [-1.6679e+01,  6.0197e+00,  4.5209e+00, -1.7450e+01,  8.8628e+00,\n",
      "         -3.8372e+00, -2.5640e-01, -4.4516e+00, -1.0206e+01, -4.7092e+00],\n",
      "        [-1.0476e+01,  1.6145e+01,  2.6689e+00, -4.6544e+00,  3.8168e+00,\n",
      "          7.7486e+00, -5.6752e+00, -7.4126e+00, -1.7479e+01,  9.3765e-01],\n",
      "        [-1.3073e+01, -8.0666e+00, -4.0146e+00, -6.9029e+00,  9.3306e+00,\n",
      "          8.4839e+00, -1.1462e+00,  4.7133e+00, -1.7364e+01,  1.2186e+00],\n",
      "        [-1.5790e+01, -1.3064e+01, -2.3809e+00, -7.0781e-01,  6.6733e+00,\n",
      "          1.1283e+01, -4.3893e+00,  7.9555e+00, -1.8388e+01, -6.0467e+00],\n",
      "        [-2.1568e+01, -2.1535e+01, -4.9940e+00, -1.6310e+01,  1.7311e+00,\n",
      "          9.0147e+00,  3.0812e-01,  1.0592e+01, -1.7894e+01,  2.9545e+00],\n",
      "        [-1.9771e+01, -2.7100e+00,  5.3817e+00,  3.1472e+00,  1.2322e+01,\n",
      "          5.5678e+00, -5.8980e+00, -2.7547e+00, -1.0760e+01,  2.1447e+00],\n",
      "        [-1.1927e+01, -1.1346e+01, -6.2060e+00, -1.6443e+01,  4.0264e+00,\n",
      "          8.8478e+00, -4.8052e+00, -2.5241e-01, -7.2765e+00, -1.7493e+00],\n",
      "        [-1.8094e+01,  3.8571e-01, -5.0458e+00, -1.0145e+01, -2.6298e-02,\n",
      "          3.3770e+00, -1.1193e+01,  2.1863e+00, -7.0558e+00,  3.2444e+00],\n",
      "        [-2.0663e+01, -6.0318e+00, -6.3635e+00, -8.5956e+00,  8.9569e+00,\n",
      "          7.0118e-01, -7.5988e+00,  2.1074e+00, -5.9827e+00, -7.0112e+00],\n",
      "        [-1.7118e+01,  6.5885e+00,  2.3504e+00, -1.0688e+01,  3.9042e+00,\n",
      "          4.2951e+00, -4.1427e+00,  1.2955e+01, -9.8654e+00,  2.1706e+00],\n",
      "        [-1.3875e+01, -1.2995e+01, -5.6609e+00, -1.0000e+01,  6.0515e+00,\n",
      "          1.3559e+00, -2.2513e+00,  1.2052e+01, -1.2365e+01, -6.5954e+00],\n",
      "        [-1.4194e+01, -9.7508e+00,  5.9129e-01, -6.7739e+00,  9.4723e+00,\n",
      "          1.0802e+01, -1.0917e+01, -3.8369e-01, -1.0567e+01,  2.7459e+00],\n",
      "        [-6.6005e+00,  5.2537e+00,  4.8444e-01, -1.5486e+01,  3.2743e+00,\n",
      "          7.6084e+00, -1.0951e+01, -3.2996e+00, -1.5723e+01,  4.4584e+00],\n",
      "        [-1.1843e+01, -1.3676e+01, -5.0262e+00,  2.5957e-01,  9.7508e+00,\n",
      "          1.7478e+01, -2.8992e+00, -4.8998e+00, -8.6089e+00, -1.0952e+01],\n",
      "        [-1.7378e+01, -3.9762e+00,  2.3382e+00, -1.7320e+01,  1.6220e-01,\n",
      "          4.8560e+00,  5.1835e+00,  6.7445e-01, -1.4316e+01, -1.4443e+00],\n",
      "        [-4.7083e+00, -3.3571e+00,  5.0748e+00, -6.3817e+00,  1.2501e+01,\n",
      "          1.0774e+01, -1.0814e+01, -3.5792e+00, -1.7611e+01, -7.1960e+00],\n",
      "        [-9.5512e+00, -7.2954e-02,  1.0088e+01, -1.1968e+01,  1.0265e+01,\n",
      "         -2.3555e+00, -1.3078e+00, -4.6185e+00, -1.4300e+01, -3.8573e+00],\n",
      "        [-1.4343e+01, -6.1510e+00,  4.7932e-01, -8.2186e+00, -1.4676e+00,\n",
      "          9.1670e+00, -4.5623e+00, -1.0555e+01, -1.4194e+01, -6.4879e+00],\n",
      "        [-1.4360e+01, -1.1322e+01, -3.5687e+00, -9.1391e+00,  9.5943e+00,\n",
      "          1.2637e+01, -6.5189e+00, -5.4468e+00, -7.9888e+00, -6.0270e+00],\n",
      "        [-1.7224e+01,  4.6848e+00,  1.3814e+01, -1.0338e+01,  2.7476e+00,\n",
      "          4.3403e-01, -1.0562e+01,  1.3838e+00, -3.4937e+00,  1.9263e-01],\n",
      "        [-2.0189e+01, -1.1386e+01, -9.9985e+00, -1.4087e+01,  7.6687e+00,\n",
      "          1.6198e+01, -9.7521e+00,  6.7873e+00, -1.7087e+01, -1.3410e+00],\n",
      "        [-2.3033e+01, -6.9682e+00, -8.6197e+00, -1.0801e+01,  1.7944e+01,\n",
      "          3.8075e+00, -1.0146e+01,  9.8920e+00, -1.0945e+01, -4.0198e+00],\n",
      "        [-5.5481e+00, -1.0669e+01,  6.2965e+00, -1.3347e+01, -1.7923e+00,\n",
      "          1.4881e+01, -6.5415e+00,  2.6766e+00, -1.0044e+01,  7.8320e+00],\n",
      "        [-1.7606e+01, -1.3837e+01, -1.0560e+01, -1.2126e+01,  1.4176e+01,\n",
      "          6.1070e+00, -1.0298e+01, -1.2907e+00, -1.4115e+01, -3.7837e+00],\n",
      "        [-2.0479e+01, -1.3103e+01, -4.5203e+00, -1.2229e+01,  6.1451e+00,\n",
      "          1.0286e+01, -1.4987e+00,  7.1392e-01, -7.4068e+00,  1.5661e+00],\n",
      "        [-1.4765e+01, -7.3309e+00,  5.4393e+00, -6.5661e+00,  1.2927e+01,\n",
      "          8.0279e+00,  1.7894e+00,  5.3153e+00, -4.0745e+00, -6.1922e+00],\n",
      "        [-1.0499e+01, -1.2972e+01,  6.4465e+00, -1.6817e+01,  4.4278e-01,\n",
      "          1.1586e+01, -1.4429e+00, -4.2998e+00, -1.1281e+01, -4.6574e+00],\n",
      "        [-1.1661e+01,  3.4216e+00,  4.1370e+00, -6.8757e+00,  1.2271e+01,\n",
      "          2.1354e+00, -7.7194e+00, -8.3742e+00, -1.1540e+01,  3.7967e+00],\n",
      "        [-1.3764e+01, -2.9488e+00, -5.2522e-02, -3.1992e+00,  9.5432e+00,\n",
      "          6.9440e-01, -2.4077e+00, -1.2278e+00, -7.9090e+00, -4.2044e+00],\n",
      "        [-9.4243e+00, -1.6334e+00,  9.7981e+00, -1.1668e+01, -4.1660e+00,\n",
      "          1.3252e+01, -3.0757e+00, -4.0909e+00, -1.0963e+01,  1.9122e+00],\n",
      "        [-1.8247e+01, -1.5031e+01,  2.6960e+00, -1.5711e+01,  2.8501e+00,\n",
      "          2.0135e+01, -8.3817e+00,  1.1946e+01, -1.7842e+01, -5.5516e+00],\n",
      "        [-1.0370e+01, -1.7106e-01,  8.2138e+00, -1.5150e+01,  1.0109e+01,\n",
      "          6.8090e+00, -3.2148e+00,  1.0464e-01, -9.1147e+00, -5.1411e+00],\n",
      "        [-1.2616e+01,  3.4157e+00,  1.3879e+01, -8.4823e+00,  1.8226e+01,\n",
      "          1.0113e+00, -5.6462e+00,  1.5524e+00, -1.7908e+01, -4.0811e+00],\n",
      "        [-1.6530e+01, -3.7240e+00,  8.6634e+00, -1.2453e+01,  7.2008e+00,\n",
      "          2.2774e+00, -5.9821e+00, -7.3258e+00, -1.3952e+01, -5.9973e+00],\n",
      "        [-1.4923e+01, -8.0301e+00, -2.6147e+00, -1.0591e+00,  1.2199e+01,\n",
      "          7.9183e+00, -1.1928e+01,  9.3731e+00, -1.8005e+01, -8.7910e+00],\n",
      "        [-1.1432e+01, -1.2493e+01, -3.0573e-01, -3.5281e+00,  1.4252e+01,\n",
      "          7.1020e+00, -7.1769e+00,  4.0853e+00, -1.6412e+01, -9.3713e+00],\n",
      "        [-1.6379e+01, -2.7347e+00,  1.5481e+00, -1.6758e+00,  2.5477e+00,\n",
      "         -9.1767e-01,  4.0392e+00, -1.6134e+00, -7.4496e+00, -5.6491e+00],\n",
      "        [-1.3441e+01, -1.3318e+01, -2.7408e+00, -1.0857e+01,  3.6095e+00,\n",
      "          1.2920e+01, -7.4912e+00, -1.2989e+00, -9.7759e+00, -7.3019e+00],\n",
      "        [-2.3442e+01, -5.2571e-01,  1.4550e+00, -1.0266e+01,  5.8664e+00,\n",
      "          8.7147e+00, -1.0150e+01, -2.0039e+00, -1.4086e+01,  1.5056e+00],\n",
      "        [-1.0289e+01, -7.0044e+00, -3.6439e-01, -4.6560e+00,  6.5700e+00,\n",
      "          3.6153e+00, -6.1139e+00,  9.8529e-01, -2.0936e+01, -2.8670e+00],\n",
      "        [-2.2117e+01, -1.0185e+01, -7.6664e+00, -1.6317e+01,  7.9520e+00,\n",
      "          3.3188e+00, -3.9718e-02, -5.4424e+00, -1.5041e+01, -6.4569e+00],\n",
      "        [-1.2597e+01, -6.4710e+00, -2.6891e-01, -4.3958e+00,  4.0521e+00,\n",
      "          7.0168e+00, -1.6725e+01, -3.8997e+00, -8.4252e+00,  3.5776e+00],\n",
      "        [-1.1263e+01, -3.7466e+00, -3.9883e+00, -1.4971e+01,  1.8248e+01,\n",
      "          1.4340e+01, -4.7414e+00,  1.1937e+01, -7.9390e+00, -1.8147e+00],\n",
      "        [-2.7662e+01, -6.3884e+00, -4.4805e+00, -1.3305e+01,  1.0572e+01,\n",
      "          5.8571e+00, -2.5796e+00,  9.5046e-01, -1.2808e+01, -1.3047e+00],\n",
      "        [-1.3793e+01, -5.1367e+00, -7.3715e+00, -9.3919e+00,  7.2816e+00,\n",
      "          6.7382e+00, -8.0253e+00,  1.0013e+01, -1.4612e+01,  3.1762e+00],\n",
      "        [-1.1734e+01, -4.5336e+00,  3.9057e+00, -1.0908e+01,  1.1370e+01,\n",
      "          7.1858e+00, -6.0776e+00,  6.7276e+00, -1.8478e+01, -1.2381e+00]])\n"
     ]
    }
   ],
   "source": [
    "# Set seed\n",
    "torch.manual_seed(7)\n",
    "\n",
    "new_images = images.view(images.shape[0], images.shape[2]* images.shape[3])\n",
    "\n",
    "n_input = new_images.shape[1]\n",
    "n_hidden = 256\n",
    "n_output = 10\n",
    "\n",
    "# Weights for inputs  to hidden layer\n",
    "W1 = torch.randn(n_input, n_hidden)\n",
    "# Weights for hidden layer to output layer\n",
    "W2 = torch.randn(n_hidden, n_output)\n",
    "\n",
    "# and bias terms for hidden and output layers\n",
    "B1 = torch.randn((1, n_hidden))\n",
    "B2 = torch.randn((1, n_output))\n",
    "\n",
    "# output of this network, should have shape (64,10)\n",
    "# out = \n",
    "hidden_output = activation(torch.mm( new_images, W1) + B1)\n",
    "\n",
    "out = torch.mm(hidden_output, W2) + B2\n",
    "print(output)"
   ]
  },
  {
   "cell_type": "code",
   "execution_count": 17,
   "metadata": {},
   "outputs": [
    {
     "data": {
      "text/plain": [
       "torch.Size([64, 10])"
      ]
     },
     "execution_count": 17,
     "metadata": {},
     "output_type": "execute_result"
    }
   ],
   "source": [
    "out.shape"
   ]
  },
  {
   "cell_type": "markdown",
   "metadata": {},
   "source": [
    "**Exercise** implement a function softmax. We'll need to define the *dim* keyword in *torch.sum*. Setting *dim=0* takes the sum across the rows while *dim=1* takes the sum across the columns."
   ]
  },
  {
   "cell_type": "code",
   "execution_count": 23,
   "metadata": {},
   "outputs": [
    {
     "name": "stdout",
     "output_type": "stream",
     "text": [
      "torch.Size([64, 10])\n",
      "tensor([1.0000, 1.0000, 1.0000, 1.0000, 1.0000, 1.0000, 1.0000, 1.0000, 1.0000,\n",
      "        1.0000, 1.0000, 1.0000, 1.0000, 1.0000, 1.0000, 1.0000, 1.0000, 1.0000,\n",
      "        1.0000, 1.0000, 1.0000, 1.0000, 1.0000, 1.0000, 1.0000, 1.0000, 1.0000,\n",
      "        1.0000, 1.0000, 1.0000, 1.0000, 1.0000, 1.0000, 1.0000, 1.0000, 1.0000,\n",
      "        1.0000, 1.0000, 1.0000, 1.0000, 1.0000, 1.0000, 1.0000, 1.0000, 1.0000,\n",
      "        1.0000, 1.0000, 1.0000, 1.0000, 1.0000, 1.0000, 1.0000, 1.0000, 1.0000,\n",
      "        1.0000, 1.0000, 1.0000, 1.0000, 1.0000, 1.0000, 1.0000, 1.0000, 1.0000,\n",
      "        1.0000])\n"
     ]
    }
   ],
   "source": [
    "def softmax(x):\n",
    "    # Implement here\n",
    "    denominator = torch.exp(x).sum(dim=1)\n",
    "    #print(torch.exp(x).shape)\n",
    "    #print(torch.exp(x).sum(dim=1).view()shape)\n",
    "    return torch.exp(x) / denominator.view(denominator.shape[0],1)\n",
    "    \n",
    "# Out should be the output of the network in the\n",
    "# previous excercise with shape (64,10)\n",
    "probabilities = softmax(out)\n",
    "\n",
    "# should be (64,10)\n",
    "print(probabilities.shape)\n",
    "# Does it sum to 1?\n",
    "print(probabilities.sum(dim=1))"
   ]
  },
  {
   "cell_type": "markdown",
   "metadata": {},
   "source": [
    "# Building networks with PyTorch"
   ]
  },
  {
   "cell_type": "code",
   "execution_count": 24,
   "metadata": {},
   "outputs": [],
   "source": [
    "from torch import nn"
   ]
  },
  {
   "cell_type": "code",
   "execution_count": 32,
   "metadata": {},
   "outputs": [],
   "source": [
    "class Network(nn.Module):\n",
    "    def __init__(self):\n",
    "        super().__init__()\n",
    "        \n",
    "        # Inputs to hidden layer linear transformation\n",
    "        self.hidden = nn.Linear(784, 256)\n",
    "        # Output layer, 10 units, one for each digit\n",
    "        self.output = nn.Linear(256, 10)\n",
    "        \n",
    "        # Define sigmoid activation and softmax output\n",
    "        self.sigmoid = nn.Sigmoid()\n",
    "        self.softmax = nn.Softmax(dim=1)\n",
    "        \n",
    "    def forward(self, x):\n",
    "        # Pass the input tensor through each of\n",
    "        # our operations\n",
    "        x = self.hidden(x)\n",
    "        x = self.sigmoid(x)\n",
    "        x = self.output(x)\n",
    "        x = self.softmax(x)\n",
    "        \n",
    "        return x"
   ]
  },
  {
   "cell_type": "code",
   "execution_count": 37,
   "metadata": {},
   "outputs": [
    {
     "data": {
      "text/plain": [
       "Network(\n",
       "  (hidden): Linear(in_features=784, out_features=256, bias=True)\n",
       "  (output): Linear(in_features=256, out_features=10, bias=True)\n",
       ")"
      ]
     },
     "execution_count": 37,
     "metadata": {},
     "output_type": "execute_result"
    }
   ],
   "source": [
    "# Create the network and look at it's text\n",
    "# representation\n",
    "model = Network()\n",
    "model"
   ]
  },
  {
   "cell_type": "markdown",
   "metadata": {},
   "source": [
    "Alternatively, we can use **torch.nn.functional** module"
   ]
  },
  {
   "cell_type": "code",
   "execution_count": 36,
   "metadata": {},
   "outputs": [],
   "source": [
    "import torch.nn.functional as F\n",
    "\n",
    "class Network(nn.Module):\n",
    "    def __init__(self):\n",
    "        super().__init__()\n",
    "        # Inputs to hidden layer linear transformation\n",
    "        self.hidden = nn.Linear(784, 256)\n",
    "        # Output layer, 10 units - one for each digit\n",
    "        self.output = nn.Linear(256, 10)\n",
    "        \n",
    "    def forward(self, x):\n",
    "        # Hidden layer with sigmoid activation\n",
    "        x = F.sigmoid(self.hidden(x))\n",
    "        # Output layer with softmax activation\n",
    "        x = F.softmax(self.output(x), dim=1)\n",
    "        \n",
    "        return x"
   ]
  },
  {
   "cell_type": "code",
   "execution_count": null,
   "metadata": {},
   "outputs": [],
   "source": []
  },
  {
   "cell_type": "markdown",
   "metadata": {},
   "source": [
    "**Build a Network**\n",
    "\n",
    "**Exercise**\n",
    "\n",
    "Create a network with 784 input units, a hidden layer with 128 units and a ReLU activation, then a hidden layer with 64 units and a ReLU activation, and finally an output layer with a softmax activations."
   ]
  },
  {
   "cell_type": "code",
   "execution_count": 38,
   "metadata": {},
   "outputs": [],
   "source": [
    "import torch.nn.functional as F\n",
    "\n",
    "class Network(nn.Module):\n",
    "    def __init__(self):\n",
    "        super().__init__()\n",
    "        # Inputs to hidden layer, linear transformation\n",
    "        self.fc1 = nn.Linear(784, 128)\n",
    "        self.fc2 = nn.Linear(128, 64)\n",
    "        self.output = nn.Linear(64, 10)\n",
    "        \n",
    "    def forward(self, x):\n",
    "        # fc1 layer with relu\n",
    "        x = F.relu(self.fc1(x))\n",
    "        # fc2 layer with relu\n",
    "        x = F.relu(self.fc2(x))\n",
    "        # output with softmax\n",
    "        x = F.softmax(self.output(x), dim=1)\n",
    "        \n",
    "        return x"
   ]
  },
  {
   "cell_type": "markdown",
   "metadata": {},
   "source": [
    "## Initializing weights and biases"
   ]
  },
  {
   "cell_type": "code",
   "execution_count": 48,
   "metadata": {},
   "outputs": [
    {
     "name": "stdout",
     "output_type": "stream",
     "text": [
      "Parameter containing:\n",
      "tensor([[ 0.0265,  0.0073, -0.0200,  ...,  0.0182,  0.0310, -0.0186],\n",
      "        [ 0.0134, -0.0313,  0.0107,  ...,  0.0288,  0.0025, -0.0077],\n",
      "        [ 0.0091,  0.0259,  0.0257,  ..., -0.0030,  0.0350, -0.0161],\n",
      "        ...,\n",
      "        [ 0.0339, -0.0339, -0.0133,  ...,  0.0262,  0.0317, -0.0347],\n",
      "        [ 0.0114, -0.0267,  0.0357,  ..., -0.0292,  0.0125, -0.0015],\n",
      "        [ 0.0004, -0.0204,  0.0125,  ...,  0.0345, -0.0294, -0.0211]],\n",
      "       requires_grad=True)\n",
      "Parameter containing:\n",
      "tensor([-0.0686,  0.0338,  0.0374,  0.0400, -0.0335,  0.0867,  0.0559, -0.0514,\n",
      "         0.0054,  0.0804,  0.0169, -0.0756,  0.0319, -0.0130, -0.0491, -0.0475,\n",
      "        -0.0385, -0.0208, -0.0223, -0.0240, -0.0442,  0.0342,  0.0073, -0.0357,\n",
      "         0.0449, -0.0214,  0.0412, -0.0822, -0.0714, -0.0088,  0.0707,  0.0673,\n",
      "        -0.0083, -0.0741,  0.0546, -0.0667,  0.0690,  0.0138,  0.0302, -0.0521,\n",
      "         0.0556,  0.0337, -0.0722, -0.0419,  0.0598, -0.0444, -0.0577,  0.0685,\n",
      "         0.0283, -0.0151, -0.0552,  0.0555, -0.0064, -0.0308, -0.0630,  0.0591,\n",
      "        -0.0365, -0.0241,  0.0567,  0.0470, -0.0649, -0.0768,  0.0326,  0.0661],\n",
      "       requires_grad=True)\n"
     ]
    }
   ],
   "source": [
    "model = Network()\n",
    "print(model.fc1.weight)\n",
    "print(model.fc2.bias)"
   ]
  },
  {
   "cell_type": "code",
   "execution_count": 49,
   "metadata": {},
   "outputs": [
    {
     "data": {
      "text/plain": [
       "tensor([0., 0., 0., 0., 0., 0., 0., 0., 0., 0., 0., 0., 0., 0., 0., 0., 0., 0., 0., 0., 0., 0., 0., 0.,\n",
       "        0., 0., 0., 0., 0., 0., 0., 0., 0., 0., 0., 0., 0., 0., 0., 0., 0., 0., 0., 0., 0., 0., 0., 0.,\n",
       "        0., 0., 0., 0., 0., 0., 0., 0., 0., 0., 0., 0., 0., 0., 0., 0., 0., 0., 0., 0., 0., 0., 0., 0.,\n",
       "        0., 0., 0., 0., 0., 0., 0., 0., 0., 0., 0., 0., 0., 0., 0., 0., 0., 0., 0., 0., 0., 0., 0., 0.,\n",
       "        0., 0., 0., 0., 0., 0., 0., 0., 0., 0., 0., 0., 0., 0., 0., 0., 0., 0., 0., 0., 0., 0., 0., 0.,\n",
       "        0., 0., 0., 0., 0., 0., 0., 0.])"
      ]
     },
     "execution_count": 49,
     "metadata": {},
     "output_type": "execute_result"
    }
   ],
   "source": [
    "# Set biases to all zeros\n",
    "model.fc1.bias.data.fill_(0)"
   ]
  },
  {
   "cell_type": "code",
   "execution_count": 51,
   "metadata": {},
   "outputs": [
    {
     "name": "stdout",
     "output_type": "stream",
     "text": [
      "Parameter containing:\n",
      "tensor([0., 0., 0., 0., 0., 0., 0., 0., 0., 0., 0., 0., 0., 0., 0., 0., 0., 0., 0., 0., 0., 0., 0., 0.,\n",
      "        0., 0., 0., 0., 0., 0., 0., 0., 0., 0., 0., 0., 0., 0., 0., 0., 0., 0., 0., 0., 0., 0., 0., 0.,\n",
      "        0., 0., 0., 0., 0., 0., 0., 0., 0., 0., 0., 0., 0., 0., 0., 0., 0., 0., 0., 0., 0., 0., 0., 0.,\n",
      "        0., 0., 0., 0., 0., 0., 0., 0., 0., 0., 0., 0., 0., 0., 0., 0., 0., 0., 0., 0., 0., 0., 0., 0.,\n",
      "        0., 0., 0., 0., 0., 0., 0., 0., 0., 0., 0., 0., 0., 0., 0., 0., 0., 0., 0., 0., 0., 0., 0., 0.,\n",
      "        0., 0., 0., 0., 0., 0., 0., 0.], requires_grad=True)\n"
     ]
    }
   ],
   "source": [
    "print(model.fc1.bias)"
   ]
  },
  {
   "cell_type": "code",
   "execution_count": 52,
   "metadata": {},
   "outputs": [
    {
     "data": {
      "text/plain": [
       "tensor([[-1.0818e-02,  1.5055e-02, -1.3669e-02,  ...,  1.3031e-02,\n",
       "          5.2288e-03,  6.6340e-03],\n",
       "        [ 7.9046e-03,  3.4376e-03, -6.7541e-03,  ...,  4.3974e-03,\n",
       "          4.4993e-03, -4.6771e-03],\n",
       "        [-1.0431e-03, -1.2761e-02, -5.8101e-03,  ...,  8.0413e-03,\n",
       "         -6.6638e-03, -5.1466e-03],\n",
       "        ...,\n",
       "        [ 2.3400e-05,  2.4239e-03, -1.7866e-02,  ...,  1.9534e-02,\n",
       "         -2.8555e-03, -1.5680e-02],\n",
       "        [ 3.5450e-03, -5.6944e-03,  8.7198e-03,  ...,  3.4349e-03,\n",
       "         -2.8740e-02,  5.4916e-03],\n",
       "        [-9.4316e-04, -1.8207e-02,  5.9719e-03,  ..., -1.7853e-03,\n",
       "         -7.4211e-03,  3.2420e-03]])"
      ]
     },
     "execution_count": 52,
     "metadata": {},
     "output_type": "execute_result"
    }
   ],
   "source": [
    "# sample from random normal with standard dev = 0.01\n",
    "model.fc1.weight.data.normal_(std=0.01)"
   ]
  },
  {
   "cell_type": "markdown",
   "metadata": {},
   "source": [
    "## Forward pass"
   ]
  },
  {
   "cell_type": "code",
   "execution_count": 56,
   "metadata": {},
   "outputs": [],
   "source": [
    "# Grab some data\n",
    "dataiter = iter(trainloader)\n",
    "images, labels = dataiter.next()\n",
    "\n",
    "images.resize_(64, 1, 784)\n",
    "\n",
    "# Forward pass through the network\n",
    "img_idx = 0\n",
    "ps = model.forward(images[img_idx,:])\n",
    "\n",
    "img = images[img_idx]"
   ]
  },
  {
   "cell_type": "code",
   "execution_count": 58,
   "metadata": {},
   "outputs": [
    {
     "data": {
      "image/png": "[encoded data removed]",
      "text/plain": [
       "<matplotlib.figure.Figure at 0x7fa763a20f98>"
      ]
     },
     "metadata": {
      "image/png": {
       "height": 224,
       "width": 423
      },
      "needs_background": "light"
     },
     "output_type": "display_data"
    }
   ],
   "source": [
    "helper.view_classify(img.view(1, 28, 28), ps)"
   ]
  },
  {
   "cell_type": "markdown",
   "metadata": {},
   "source": [
    "## Using nn.Sequential\n",
    "\n",
    "It is an alternative way, as the 3rd option."
   ]
  },
  {
   "cell_type": "code",
   "execution_count": 60,
   "metadata": {},
   "outputs": [
    {
     "name": "stdout",
     "output_type": "stream",
     "text": [
      "Sequential(\n",
      "  (0): Linear(in_features=784, out_features=128, bias=True)\n",
      "  (1): ReLU()\n",
      "  (2): Linear(in_features=128, out_features=64, bias=True)\n",
      "  (3): ReLU()\n",
      "  (4): Linear(in_features=64, out_features=10, bias=True)\n",
      "  (5): Softmax(dim=1)\n",
      ")\n"
     ]
    },
    {
     "data": {
      "image/png": "[encoded data removed]",
      "text/plain": [
       "<matplotlib.figure.Figure at 0x7fa771b11828>"
      ]
     },
     "metadata": {
      "image/png": {
       "height": 224,
       "width": 423
      },
      "needs_background": "light"
     },
     "output_type": "display_data"
    }
   ],
   "source": [
    "# Hyperparameters for our network\n",
    "input_size = 784\n",
    "hidden_size = [128, 64]\n",
    "output_size = 10\n",
    "\n",
    "# Build a feed-forward network\n",
    "model = nn.Sequential(\n",
    "            nn.Linear(input_size, hidden_size[0]),\n",
    "            nn.ReLU(),\n",
    "            nn.Linear(hidden_size[0], hidden_size[1]),\n",
    "            nn.ReLU(),\n",
    "            nn.Linear(hidden_size[1], output_size),\n",
    "            nn.Softmax(dim=1)\n",
    "        )\n",
    "\n",
    "print(model)\n",
    "\n",
    "# Forward pass through the network and display output\n",
    "images, labels = next(iter(trainloader))\n",
    "images.resize_(images.shape[0], 1, 784)\n",
    "ps = model.forward(images[0,:])\n",
    "helper.view_classify(images[0].view(1, 28, 28), ps)"
   ]
  },
  {
   "cell_type": "markdown",
   "metadata": {},
   "source": [
    "The operations are available by passing in the appropriate index."
   ]
  },
  {
   "cell_type": "code",
   "execution_count": 62,
   "metadata": {},
   "outputs": [
    {
     "name": "stdout",
     "output_type": "stream",
     "text": [
      "ReLU()\n"
     ]
    }
   ],
   "source": [
    "print(model[1])"
   ]
  },
  {
   "cell_type": "markdown",
   "metadata": {},
   "source": [
    "We can also pass in an *OrderedDict* to name the indiviual layers and operations. Note that dictionary keys must be unique."
   ]
  },
  {
   "cell_type": "code",
   "execution_count": 63,
   "metadata": {},
   "outputs": [
    {
     "data": {
      "text/plain": [
       "Sequential(\n",
       "  (fc1): Linear(in_features=784, out_features=128, bias=True)\n",
       "  (relu1): ReLU()\n",
       "  (fc2): Linear(in_features=128, out_features=64, bias=True)\n",
       "  (relu2): ReLU()\n",
       "  (output): Linear(in_features=64, out_features=10, bias=True)\n",
       "  (softmax): Softmax(dim=1)\n",
       ")"
      ]
     },
     "execution_count": 63,
     "metadata": {},
     "output_type": "execute_result"
    }
   ],
   "source": [
    "from collections import OrderedDict\n",
    "\n",
    "model = nn.Sequential(OrderedDict([\n",
    "    ('fc1', nn.Linear(input_size, hidden_size[0])),\n",
    "    ('relu1', nn.ReLU()),\n",
    "    ('fc2', nn.Linear(hidden_size[0], hidden_size[1])),\n",
    "    ('relu2', nn.ReLU()),\n",
    "    ('output', nn.Linear(hidden_size[1], output_size)),\n",
    "    ('softmax', nn.Softmax(dim=1))\n",
    "]))\n",
    "model"
   ]
  },
  {
   "cell_type": "markdown",
   "metadata": {},
   "source": [
    "Now we can access layers either by integer or the name"
   ]
  },
  {
   "cell_type": "code",
   "execution_count": 64,
   "metadata": {},
   "outputs": [
    {
     "name": "stdout",
     "output_type": "stream",
     "text": [
      "Linear(in_features=784, out_features=128, bias=True)\n",
      "Linear(in_features=784, out_features=128, bias=True)\n"
     ]
    }
   ],
   "source": [
    "print(model.fc1)\n",
    "print(model[0])"
   ]
  }
 ],
 "metadata": {
  "kernelspec": {
   "display_name": "Python 3",
   "language": "python",
   "name": "python3"
  },
  "language_info": {
   "codemirror_mode": {
    "name": "ipython",
    "version": 3
   },
   "file_extension": ".py",
   "mimetype": "text/x-python",
   "name": "python",
   "nbconvert_exporter": "python",
   "pygments_lexer": "ipython3",
   "version": "3.6.9"
  },
  "toc": {
   "base_numbering": 1,
   "nav_menu": {},
   "number_sections": true,
   "sideBar": true,
   "skip_h1_title": false,
   "title_cell": "Table of Contents",
   "title_sidebar": "Contents",
   "toc_cell": false,
   "toc_position": {},
   "toc_section_display": true,
   "toc_window_display": false
  },
  "varInspector": {
   "cols": {
    "lenName": 16,
    "lenType": 16,
    "lenVar": 40
   },
   "kernels_config": {
    "python": {
     "delete_cmd_postfix": "",
     "delete_cmd_prefix": "del ",
     "library": "var_list.py",
     "varRefreshCmd": "print(var_dic_list())"
    },
    "r": {
     "delete_cmd_postfix": ") ",
     "delete_cmd_prefix": "rm(",
     "library": "var_list.r",
     "varRefreshCmd": "cat(var_dic_list()) "
    }
   },
   "types_to_exclude": [
    "module",
    "function",
    "builtin_function_or_method",
    "instance",
    "_Feature"
   ],
   "window_display": false
  }
 },
 "nbformat": 4,
 "nbformat_minor": 2
}
