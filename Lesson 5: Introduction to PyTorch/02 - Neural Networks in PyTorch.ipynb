{
 "cells": [
  {
   "cell_type": "code",
   "execution_count": 1,
   "metadata": {},
   "outputs": [],
   "source": [
    "# Import necessary packages\n",
    "\n",
    "%matplotlib inline\n",
    "%config InlineBackend.figure_format = 'retina'\n",
    "\n",
    "import numpy as np\n",
    "import torch\n",
    "\n",
    "import helper\n",
    "\n",
    "import matplotlib.pyplot as plt"
   ]
  },
  {
   "cell_type": "markdown",
   "metadata": {},
   "source": [
    "We will work on MNIST dataset."
   ]
  },
  {
   "cell_type": "code",
   "execution_count": 2,
   "metadata": {},
   "outputs": [],
   "source": [
    "from torchvision import datasets, transforms\n",
    "\n",
    "# Define a transform to normalize the data\n",
    "transform = transforms.Compose([\n",
    "                transforms.ToTensor(),\n",
    "                transforms.Normalize((0.5,), (0.5,))\n",
    "    ,])\n",
    "\n",
    "# Download and load the training data\n",
    "trainset = datasets.MNIST('~/.pytorch/MNIST_data/',\n",
    "                          download=True, \n",
    "                          train=True,\n",
    "                          transform=transform)\n",
    "\n",
    "trainloader = torch.utils.data.DataLoader(trainset,\n",
    "                                          batch_size=64,\n",
    "                                          shuffle=True)"
   ]
  },
  {
   "cell_type": "markdown",
   "execution_count": null,
   "metadata": {},
   "outputs": [],
   "source": [
    "We have the training data loaded into `trainloader` and we make that an iterator with `iter(trainloader)`. Later, we'll use this to loop through the dataset for training, like\n",
    "\n",
    "```python\n",
    "for image, label in trainloader:\n",
    "    ## do things with images and labels\n",
    "```\n",
    "\n",
    "You'll notice I created the `trainloader` with a batch size of 64, and `shuffle=True`. The batch size is the number of images we get in one iteration from the data loader and pass through our network, often called a *batch*. And `shuffle=True` tells it to shuffle the dataset every time we start going through the data loader again. But here I'm just grabbing the first batch so we can check out the data. We can see below that `images` is just a tensor with size `(64, 1, 28, 28)`. So, 64 images per batch, 1 color channel, and 28x28 images."
   ]
  },
  {
   "cell_type": "code",
   "execution_count": 3,
   "metadata": {},
   "outputs": [
    {
     "name": "stdout",
     "output_type": "stream",
     "text": "<class 'torch.Tensor'>\ntorch.Size([64, 1, 28, 28])\ntorch.Size([64])\n"
    }
   ],
   "source": [
    "dataiter = iter(trainloader)\n",
    "images, labels = dataiter.next()\n",
    "print(type(images))\n",
    "print(images.shape)\n",
    "print(labels.shape)"
   ]
  },
  {
   "cell_type": "code",
   "execution_count": 4,
   "metadata": {},
   "outputs": [
    {
     "data": {
      "image/png": "[encoded data removed]",
      "text/plain": "<Figure size 432x288 with 1 Axes>"
     },
     "metadata": {
      "image/png": {
       "height": 248,
       "width": 251
      },
      "needs_background": "light"
     },
     "output_type": "display_data"
    }
   ],
   "source": [
    "# this is what one of the images looks like\n",
    "plt.imshow(images[1].numpy().squeeze(), cmap='Greys_r');"
   ]
  },
  {
   "cell_type": "markdown",
   "metadata": {},
   "source": [
    "**Exercise**\n",
    "\n",
    "Flatten the batch of images. Then build a multi-layer network with 784 input units, 256 hidden units, and 10 output units using random tensors for the weights and biases. Use a sigmoid for the hidden layer. Leave the output layer without an activation."
   ]
  },
  {
   "cell_type": "code",
   "execution_count": 5,
   "metadata": {},
   "outputs": [],
   "source": [
    "def activation(x):\n",
    "    \"\"\"\n",
    "    Sigmoid activation function\n",
    "    \n",
    "    Arguments:\n",
    "    ----------\n",
    "    x: torch.Tensor\n",
    "    \"\"\"\n",
    "    return 1/(1 + torch.exp(-x))"
   ]
  },
  {
   "cell_type": "code",
   "execution_count": 6,
   "metadata": {},
   "outputs": [
    {
     "name": "stdout",
     "output_type": "stream",
     "text": "tensor([[-1.5501e+01, -6.2225e+00, -2.0410e+00, -5.7955e+00,  5.1170e+00,\n          2.6277e+00, -5.5344e+00, -4.5349e+00, -1.1088e+01, -1.0660e-01],\n        [-1.0459e+01, -8.9736e+00,  7.7845e-01, -2.2818e+00,  1.3991e+01,\n          7.3920e+00, -1.9095e+00, -5.0793e+00, -9.5725e+00, -1.6327e+01],\n        [-2.1206e+01, -1.3151e+01, -5.6795e-01,  2.5531e+00,  1.6527e+01,\n          2.6351e+00, -4.6944e+00, -6.8836e+00, -7.1417e+00, -6.3762e+00],\n        [-6.3748e+00, -4.9577e+00, -6.9053e-01, -1.3758e+01, -2.4457e+00,\n          1.2309e+01, -4.1845e+00,  3.8132e+00, -8.3046e+00, -3.7871e+00],\n        [-1.3423e+01, -7.4862e+00, -2.3396e+00, -1.4249e+01,  5.3565e+00,\n          5.0829e+00,  1.5803e+00,  9.6535e+00, -1.0857e+01, -5.5987e-02],\n        [-1.9427e+01, -1.0932e+00,  5.1802e+00, -8.6186e+00,  8.1895e+00,\n          5.4424e-01, -1.3049e+01, -5.7129e+00, -1.3239e+01, -9.6769e+00],\n        [-2.0367e+01, -1.3249e-01,  2.7264e+00, -6.8318e+00,  1.1669e+00,\n          6.2121e+00,  2.2096e+00,  5.8374e+00, -1.4404e+01, -7.2216e+00],\n        [-1.6763e+01, -2.6891e+00, -2.7968e+00, -5.7672e+00,  9.5364e+00,\n          1.3409e+00, -1.3003e+01,  5.9771e+00, -9.2021e+00, -9.5908e+00],\n        [-1.4884e+01, -4.9903e+00,  4.4774e+00, -8.2840e+00, -4.4014e+00,\n          3.9960e+00, -1.3801e+00,  4.5180e+00, -1.2937e+01, -3.4937e+00],\n        [-1.2977e+01, -4.8942e+00, -2.8063e+00, -1.1109e+01,  6.1773e+00,\n          5.1351e+00, -8.6610e+00,  1.1018e+01, -6.5661e+00, -2.4368e+00],\n        [-2.7388e+01, -2.9895e+00, -9.3036e+00, -6.1268e+00,  2.1333e+00,\n          6.0136e+00, -9.1349e+00, -9.7184e+00, -1.9391e+01,  3.6946e+00],\n        [-8.1210e+00, -1.5317e+00,  4.0337e+00, -7.7101e+00,  5.4686e+00,\n          3.5694e+00,  7.6786e-01, -5.7752e+00, -1.1791e+01, -7.8130e+00],\n        [-1.9387e+01, -6.7740e+00,  2.3798e+00, -7.1431e+00,  1.3023e+01,\n          1.1501e+01, -8.6203e+00,  7.3452e+00, -7.3109e+00, -4.4625e+00],\n        [-1.1837e+01, -1.8625e+01, -9.2133e+00,  5.9568e-01,  1.1590e+01,\n          6.0599e+00, -4.0343e+00, -3.3438e+00, -8.5606e+00, -1.7687e-01],\n        [-1.8594e+01, -7.1326e+00,  5.2347e+00, -1.1309e+01,  6.0576e+00,\n          2.0514e+01, -1.4885e+01, -1.8558e+01, -1.9356e+01, -4.3939e+00],\n        [-1.6997e+01, -1.3611e+01,  4.0743e+00, -2.1626e+01,  2.5746e+00,\n          7.6368e+00, -9.3240e+00, -2.1460e+00, -4.0375e+00, -2.7704e+00],\n        [-6.4781e+00, -1.3133e+00, -1.8926e+00, -1.4637e+00,  5.5938e+00,\n          5.4045e+00, -1.6135e-01,  5.2534e+00, -1.9245e+01,  1.9005e-01],\n        [-1.0544e+01, -6.1476e+00, -1.0412e-01, -7.3333e-01,  9.6403e+00,\n          2.0090e+01, -1.4023e+00, -1.2799e+00, -1.1104e+01,  4.1362e+00],\n        [-1.1218e+01, -6.9622e+00, -1.8853e+00,  2.8799e+00,  1.0134e+01,\n          3.6459e+00, -1.3480e+01, -8.9401e+00, -1.5850e+01,  4.1879e+00],\n        [-1.0054e+01, -6.6215e+00, -2.2093e+00,  2.5395e+00,  8.0902e+00,\n          5.0329e+00,  3.1702e+00,  5.0446e+00, -6.1093e+00, -9.6008e+00],\n        [-1.1746e+01, -4.8068e+00, -5.4918e+00, -1.0449e+01,  1.1394e+01,\n          7.2655e+00, -2.1596e+00, -2.1859e+00, -1.6024e+01, -5.2191e+00],\n        [-9.5258e+00, -1.9225e+01, -5.1660e+00, -8.7445e+00,  1.4891e+01,\n          1.1082e+01, -5.2858e+00,  4.1850e+00, -1.2596e+01, -5.8090e+00],\n        [-7.1482e+00, -4.5847e+00,  1.0073e+01, -6.8656e+00,  1.1755e+01,\n          7.7860e-01, -6.6548e+00,  3.1316e+00, -1.0132e+01, -6.1168e+00],\n        [-1.4899e+01, -7.0983e+00, -4.5797e+00, -1.6287e+01,  1.0232e+01,\n          1.3379e+01, -2.3938e+00,  1.1076e+01, -9.8172e+00,  1.3133e+00],\n        [-1.1900e+01, -8.4948e+00, -3.7827e+00, -9.3359e+00,  7.0889e+00,\n          7.5247e+00, -1.1188e+01,  5.4012e+00, -2.2202e+01,  6.0360e+00],\n        [-2.1689e+01, -1.0134e+01, -5.4600e+00, -1.0755e+01,  7.6123e+00,\n          8.4850e+00,  3.2538e+00,  7.3665e+00, -9.9130e+00, -1.1110e+01],\n        [-1.5103e+01, -4.2218e+00, -1.6278e+00, -1.1659e+01,  8.5556e+00,\n          1.2253e+01, -6.1074e-01, -4.6802e+00, -2.2954e+01, -2.6413e+00],\n        [-1.2746e+01, -1.3465e+01, -4.8220e+00, -1.1420e+01,  9.7298e+00,\n          6.3438e+00,  1.9137e-01,  4.5210e+00, -1.8698e+01, -9.4366e-01],\n        [-6.5768e+00, -6.2697e+00,  2.2660e+00, -9.2650e+00,  1.0907e+01,\n          4.9637e+00, -4.9120e+00,  2.1121e+00, -9.7625e+00, -3.5117e+00],\n        [-1.7251e+01, -4.9709e+00,  8.8606e+00, -1.9392e+01,  7.6426e+00,\n         -2.4951e+00, -5.3443e+00,  3.0983e+00, -1.3152e+01,  4.0937e+00],\n        [-1.5150e+01, -1.2386e+01, -1.0708e+00, -7.0007e+00,  1.1887e+01,\n          7.5136e+00, -4.2937e+00, -4.4522e+00, -1.6578e+01, -7.9761e+00],\n        [-1.3767e+01, -1.1946e+00,  6.4747e+00, -2.0946e+01,  3.7676e-01,\n          4.9664e+00, -2.2694e+00,  2.7661e+00, -1.5052e+01,  8.6851e-01],\n        [-1.3987e+01, -7.3831e+00,  1.0512e+00, -1.1374e+01,  7.4090e+00,\n          2.6365e+00, -6.2004e+00,  2.8063e+00, -1.7251e+01, -3.7833e+00],\n        [-1.4261e+01, -9.1075e+00, -5.1347e+00, -1.8747e+01,  8.9946e+00,\n          1.1434e+01,  4.1320e-01,  1.0698e+01, -1.0113e+01, -2.3837e+00],\n        [-1.5971e+01, -4.7594e+00,  7.3791e+00, -1.9493e+01, -1.6587e+00,\n          4.5022e+00, -3.4712e+00,  3.4824e+00, -8.6870e+00, -4.2708e+00],\n        [-1.2233e+01, -8.2172e+00,  5.1146e-01, -1.3475e+01,  5.8409e-01,\n          5.5925e+00, -8.4788e+00,  2.1807e+00, -1.3589e+01, -6.3651e+00],\n        [-9.0077e+00, -5.1485e-03,  3.4718e+00, -1.7752e+01,  2.7856e+00,\n          7.5897e+00, -4.9486e+00, -5.3092e-01, -1.0157e+01, -1.4417e-01],\n        [-1.8107e+01, -6.4912e+00, -4.0759e+00, -1.4385e+01,  7.3235e+00,\n          6.6118e+00, -2.5106e+00,  1.0932e+01, -4.3366e+00, -3.3844e+00],\n        [-1.4672e+01, -8.5612e+00,  4.0785e-01, -4.1883e+00,  7.1036e+00,\n          1.1414e+01, -2.3865e+00, -4.7402e+00, -2.0305e+01,  9.1444e+00],\n        [-1.2813e+01, -7.9894e+00,  5.2918e+00, -1.1844e+01,  5.5715e+00,\n          8.5149e+00,  3.8993e-01,  7.9752e-02, -6.5990e+00, -1.2059e+01],\n        [-9.8526e+00, -1.6531e+01, -1.6244e+00, -7.5185e+00,  1.1580e+01,\n          1.2956e+01, -8.0970e+00,  8.2252e+00, -1.7349e+01, -1.7690e+00],\n        [-1.8916e+01, -4.2260e+00, -7.2298e+00, -4.8081e+00,  3.4787e+00,\n          6.2124e+00,  1.3069e-01, -2.4138e+00, -1.6361e+01, -5.5578e+00],\n        [-1.9469e+01, -6.7340e+00,  1.4351e-01, -1.0081e+01,  7.0454e+00,\n          3.9513e+00, -1.3281e+01, -7.8834e+00, -6.8171e+00,  2.8102e+00],\n        [-1.5895e+01, -8.9034e+00,  5.7989e-01, -2.7243e+00,  6.3985e+00,\n          4.0755e+00, -4.3489e+00, -7.2254e+00, -7.9067e+00,  8.3093e-01],\n        [-8.9751e+00, -7.3562e+00, -2.7570e+00, -8.1388e+00,  6.0550e+00,\n          3.8211e+00, -6.2298e+00,  2.4826e-02, -1.2020e+01, -3.5123e+00],\n        [-1.9143e+01, -8.7837e+00,  4.2975e+00, -9.4714e+00,  6.3889e+00,\n          4.9033e+00, -4.5560e+00,  6.7651e+00, -1.6916e+01, -7.7533e-01],\n        [-5.0257e+00, -1.0517e+01, -3.2728e+00, -8.3256e+00,  2.1996e+00,\n          9.6591e+00,  7.7420e+00, -8.4453e-01, -1.6266e+01, -1.0908e+01],\n        [-1.1674e+01, -4.8112e+00,  7.4826e+00, -6.7196e+00,  1.0373e+01,\n          8.2447e+00, -2.8629e+00,  9.3324e+00, -1.2235e+01, -2.1951e-01],\n        [-9.4422e+00, -1.0574e+01,  1.8341e+00, -1.2877e+01,  2.8910e+00,\n          1.0747e+01, -5.0541e+00, -2.6492e-01, -1.3616e+01, -5.8875e+00],\n        [-1.5907e+01, -1.0934e+01, -3.3572e+00, -9.4323e+00,  2.6142e+00,\n          3.6130e+00, -9.8681e+00, -2.0136e+00, -1.7672e+01, -8.8133e+00],\n        [-1.7508e+01, -5.0178e+00, -5.3830e+00, -1.6676e+01,  2.3946e+00,\n          7.1595e+00, -6.1367e+00,  1.2667e-01, -1.6123e+01,  2.8852e+00],\n        [-1.8212e+01, -7.4234e+00,  1.0257e+01,  3.5634e+00,  1.0479e+01,\n          5.8404e+00, -3.5054e+00,  5.6510e+00, -1.1390e+01, -2.5539e+00],\n        [-1.1446e+01,  8.9201e-01, -2.6165e+00, -1.2122e+01,  5.4196e+00,\n          2.2807e+00, -1.4561e+01, -1.7492e+00, -1.1319e+01,  1.4893e-01],\n        [-2.0098e+01, -5.2631e+00, -1.5919e+00, -1.0729e+01,  7.9087e+00,\n          4.8964e+00, -6.6281e+00, -9.3527e-01, -1.1571e+01, -5.9773e-01],\n        [-1.7468e+01, -8.8934e+00,  2.4097e+00, -1.1211e+01,  1.1397e+01,\n          4.5765e+00, -1.3049e+01,  2.8948e-01, -7.2499e+00, -1.4158e+00],\n        [-9.2553e+00, -2.0072e+00,  6.2968e+00, -8.5408e+00,  1.0722e+01,\n          7.4710e+00, -5.7759e+00, -6.9286e-01, -4.9354e+00, -1.9644e+00],\n        [-1.5382e+01, -6.4283e+00, -1.8210e+00, -1.6064e+01,  8.0859e+00,\n          3.6653e+00,  2.1371e+00,  1.3326e+01, -6.1722e+00, -9.7354e-01],\n        [-1.7316e+01, -1.6013e+01, -8.4316e-01, -8.4037e+00,  1.0220e+01,\n          5.8619e+00, -9.8347e+00, -5.5283e+00, -9.3851e+00,  7.8293e+00],\n        [-1.7051e+01,  1.9220e+00,  1.2798e+01, -5.9407e-01, -1.2037e-01,\n         -2.2083e+00, -3.0117e+00, -8.8053e+00, -7.1315e+00,  1.0302e+00],\n        [-1.6779e+01, -2.1551e+00, -8.2318e+00, -1.4020e+01,  1.0363e+01,\n          7.7111e+00, -2.8888e+00,  6.1049e+00, -1.3807e+01, -2.2350e+00],\n        [-1.5473e+01, -2.2093e+00, -9.4243e+00, -9.6854e+00,  1.8696e+00,\n         -2.8805e+00, -9.6692e+00, -2.8237e+00, -1.6003e+01, -5.3745e+00],\n        [-2.1551e+01, -4.2012e+00,  5.0659e+00,  5.1236e-01,  1.2879e+01,\n          8.2239e+00, -1.8024e+00, -4.9185e-01, -6.4454e+00, -9.4045e+00],\n        [-9.8521e+00, -1.4661e+01, -5.0614e+00, -1.1188e+01,  1.3479e+00,\n          5.6368e+00, -9.0012e+00, -1.4758e+00, -6.4552e+00, -7.0083e+00],\n        [-1.0253e+01, -1.5899e+01, -4.5297e+00, -9.3747e+00,  5.6149e+00,\n          8.4114e+00,  1.1320e+01, -2.5291e+00, -1.5414e+01, -1.4426e+01]])\n"
    }
   ],
   "source": [
    "# Set seed\n",
    "torch.manual_seed(7)\n",
    "\n",
    "new_images = images.view(images.shape[0], images.shape[2]* images.shape[3])\n",
    "#new_images = images.view(images.shape[0], -1)\n",
    "\n",
    "n_input = new_images.shape[1]\n",
    "n_hidden = 256\n",
    "n_output = 10\n",
    "\n",
    "# Weights for inputs  to hidden layer\n",
    "W1 = torch.randn(n_input, n_hidden)\n",
    "# Weights for hidden layer to output layer\n",
    "W2 = torch.randn(n_hidden, n_output)\n",
    "\n",
    "# and bias terms for hidden and output layers\n",
    "B1 = torch.randn((1, n_hidden))\n",
    "B2 = torch.randn((1, n_output))\n",
    "\n",
    "# output of this network, should have shape (64,10)\n",
    "# out = \n",
    "hidden_output = activation(torch.mm( new_images, W1) + B1)\n",
    "\n",
    "final_output = torch.mm(hidden_output, W2) + B2\n",
    "print(final_output)"
   ]
  },
  {
   "cell_type": "code",
   "execution_count": 7,
   "metadata": {},
   "outputs": [
    {
     "data": {
      "text/plain": "torch.Size([64, 10])"
     },
     "execution_count": 7,
     "metadata": {},
     "output_type": "execute_result"
    }
   ],
   "source": [
    "final_output.shape"
   ]
  },
  {
   "cell_type": "markdown",
   "metadata": {},
   "source": [
    "> **Exercise:** Implement a function `softmax` that performs the softmax calculation and returns probability distributions for each example in the batch. Note that you'll need to pay attention to the shapes when doing this. If you have a tensor `a` with shape `(64, 10)` and a tensor `b` with shape `(64,)`, doing `a/b` will give you an error because PyTorch will try to do the division across the columns (called broadcasting) but you'll get a size mismatch. The way to think about this is for each of the 64 examples, you only want to divide by one value, the sum in the denominator. So you need `b` to have a shape of `(64, 1)`. This way PyTorch will divide the 10 values in each row of `a` by the one value in each row of `b`. Pay attention to how you take the sum as well. You'll need to define the `dim` keyword in `torch.sum`. Setting `dim=0` takes the sum across the rows while `dim=1` takes the sum across the columns."
   ]
  },
  {
   "cell_type": "code",
   "execution_count": 8,
   "metadata": {},
   "outputs": [
    {
     "name": "stdout",
     "output_type": "stream",
     "text": "torch.Size([64, 10])\ntensor([1.0000, 1.0000, 1.0000, 1.0000, 1.0000, 1.0000, 1.0000, 1.0000, 1.0000,\n        1.0000, 1.0000, 1.0000, 1.0000, 1.0000, 1.0000, 1.0000, 1.0000, 1.0000,\n        1.0000, 1.0000, 1.0000, 1.0000, 1.0000, 1.0000, 1.0000, 1.0000, 1.0000,\n        1.0000, 1.0000, 1.0000, 1.0000, 1.0000, 1.0000, 1.0000, 1.0000, 1.0000,\n        1.0000, 1.0000, 1.0000, 1.0000, 1.0000, 1.0000, 1.0000, 1.0000, 1.0000,\n        1.0000, 1.0000, 1.0000, 1.0000, 1.0000, 1.0000, 1.0000, 1.0000, 1.0000,\n        1.0000, 1.0000, 1.0000, 1.0000, 1.0000, 1.0000, 1.0000, 1.0000, 1.0000,\n        1.0000])\ntensor([4.1733e-06, 2.9766e-02, 4.8854e+00, 5.2744e-03, 2.9954e+01, 2.1009e+01,\n        1.1054e+00, 6.5788e+00, 1.6830e-05, 4.3289e-01])\n"
    }
   ],
   "source": [
    "def softmax(x):\n",
    "    # Implement here\n",
    "    denominator = torch.exp(x).sum(dim=1)\n",
    "    return torch.exp(x) / denominator.view(denominator.shape[0],1)\n",
    "    # return torch.exp(x)/torch.sum(torch.exp(x), dim=1).view(-1, 1)\n",
    "    \n",
    "# Out should be the output of the network in the\n",
    "# previous excercise with shape (64,10)\n",
    "probabilities = softmax(final_output)\n",
    "\n",
    "# should be (64,10)\n",
    "print(probabilities.shape)\n",
    "# Does it sum to 1?\n",
    "print(probabilities.sum(dim=1))\n",
    "\n",
    "# print probabilities\n",
    "print(probabilities.sum(dim=0))"
   ]
  },
  {
   "cell_type": "markdown",
   "metadata": {},
   "source": [
    "# Building networks with PyTorch"
   ]
  },
  {
   "cell_type": "code",
   "execution_count": 9,
   "metadata": {},
   "outputs": [],
   "source": [
    "from torch import nn"
   ]
  },
  {
   "cell_type": "code",
   "execution_count": 10,
   "metadata": {},
   "outputs": [],
   "source": [
    "class Network(nn.Module):\n",
    "    def __init__(self):\n",
    "        super().__init__()\n",
    "        \n",
    "        # Inputs to hidden layer linear transformation\n",
    "        self.hidden = nn.Linear(784, 256)\n",
    "        # Output layer, 10 units, one for each digit\n",
    "        self.output = nn.Linear(256, 10)\n",
    "        \n",
    "        # Define sigmoid activation and softmax output\n",
    "        self.sigmoid = nn.Sigmoid()\n",
    "        self.softmax = nn.Softmax(dim=1)\n",
    "        \n",
    "    def forward(self, x):\n",
    "        # Pass the input tensor through each of\n",
    "        # our operations\n",
    "        x = self.hidden(x)\n",
    "        x = self.sigmoid(x)\n",
    "        x = self.output(x)\n",
    "        x = self.softmax(x)\n",
    "        \n",
    "        return x"
   ]
  },
  {
   "cell_type": "code",
   "execution_count": 11,
   "metadata": {},
   "outputs": [
    {
     "data": {
      "text/plain": "Network(\n  (hidden): Linear(in_features=784, out_features=256, bias=True)\n  (output): Linear(in_features=256, out_features=10, bias=True)\n  (sigmoid): Sigmoid()\n  (softmax): Softmax(dim=1)\n)"
     },
     "execution_count": 11,
     "metadata": {},
     "output_type": "execute_result"
    }
   ],
   "source": [
    "# Create the network and look at it's text\n",
    "# representation\n",
    "model = Network()\n",
    "model"
   ]
  },
  {
   "cell_type": "markdown",
   "metadata": {},
   "source": [
    "Let's go through this bit by bit.\n",
    "\n",
    "```python\n",
    "class Network(nn.Module):\n",
    "```\n",
    "\n",
    "Here we're inheriting from `nn.Module`. Combined with `super().__init__()` this creates a class that tracks the architecture and provides a lot of useful methods and attributes. It is mandatory to inherit from `nn.Module` when you're creating a class for your network. The name of the class itself can be anything.\n",
    "\n",
    "```python\n",
    "self.hidden = nn.Linear(784, 256)\n",
    "```\n",
    "\n",
    "This line creates a module for a linear transformation, $x\\mathbf{W} + b$, with 784 inputs and 256 outputs and assigns it to `self.hidden`. The module automatically creates the weight and bias tensors which we'll use in the `forward` method. You can access the weight and bias tensors once the network (`net`) is created with `net.hidden.weight` and `net.hidden.bias`.\n",
    "\n",
    "```python\n",
    "self.output = nn.Linear(256, 10)\n",
    "```\n",
    "\n",
    "Similarly, this creates another linear transformation with 256 inputs and 10 outputs.\n",
    "\n",
    "```python\n",
    "self.sigmoid = nn.Sigmoid()\n",
    "self.softmax = nn.Softmax(dim=1)\n",
    "```\n",
    "\n",
    "Here I defined operations for the sigmoid activation and softmax output. Setting `dim=1` in `nn.Softmax(dim=1)` calculates softmax across the columns.\n",
    "\n",
    "```python\n",
    "def forward(self, x):\n",
    "```\n",
    "\n",
    "PyTorch networks created with `nn.Module` must have a `forward` method defined. It takes in a tensor `x` and passes it through the operations you defined in the `__init__` method.\n",
    "\n",
    "```python\n",
    "x = self.hidden(x)\n",
    "x = self.sigmoid(x)\n",
    "x = self.output(x)\n",
    "x = self.softmax(x)\n",
    "```\n",
    "\n",
    "Here the input tensor `x` is passed through each operation and reassigned to `x`. We can see that the input tensor goes through the hidden layer, then a sigmoid function, then the output layer, and finally the softmax function. It doesn't matter what you name the variables here, as long as the inputs and outputs of the operations match the network architecture you want to build. The order in which you define things in the `__init__` method doesn't matter, but you'll need to sequence the operations correctly in the `forward` method.\n",
    "\n",
    "Now we can create a `Network` object.\n",
    "\n",
    "Alternatively, we can use **torch.nn.functional** module"
   ]
  },
  {
   "cell_type": "code",
   "execution_count": 12,
   "metadata": {},
   "outputs": [],
   "source": [
    "import torch.nn.functional as F\n",
    "\n",
    "class Network(nn.Module):\n",
    "    def __init__(self):\n",
    "        super().__init__()\n",
    "        # Inputs to hidden layer linear transformation\n",
    "        self.hidden = nn.Linear(784, 256)\n",
    "        # Output layer, 10 units - one for each digit\n",
    "        self.output = nn.Linear(256, 10)\n",
    "        \n",
    "    def forward(self, x):\n",
    "        # Hidden layer with sigmoid activation\n",
    "        x = F.sigmoid(self.hidden(x))\n",
    "        # Output layer with softmax activation\n",
    "        x = F.softmax(self.output(x), dim=1)\n",
    "        \n",
    "        return x"
   ]
  },
  {
   "cell_type": "code",
   "execution_count": null,
   "metadata": {},
   "outputs": [],
   "source": []
  },
  {
   "cell_type": "markdown",
   "metadata": {},
   "source": [
    "**Build a Network**\n",
    "\n",
    "**Exercise**\n",
    "\n",
    "Create a network with 784 input units, a hidden layer with 128 units and a ReLU activation, then a hidden layer with 64 units and a ReLU activation, and finally an output layer with a softmax activations.\n",
    "\n",
    "It's good practice to name your layers by their type of network, for instance 'fc' to represent a fully-connected layer. As you code your solution, use `fc1`, `fc2`, and `fc3` as your layer names."
   ]
  },
  {
   "cell_type": "code",
   "execution_count": 13,
   "metadata": {},
   "outputs": [],
   "source": [
    "import torch.nn.functional as F\n",
    "\n",
    "class Network(nn.Module):\n",
    "    def __init__(self):\n",
    "        super().__init__()\n",
    "        # Inputs to hidden layer, linear transformation\n",
    "        self.fc1 = nn.Linear(784, 128)\n",
    "        self.fc2 = nn.Linear(128, 64)\n",
    "        self.output = nn.Linear(64, 10)\n",
    "        \n",
    "    def forward(self, x):\n",
    "        # fc1 layer with relu\n",
    "        x = F.relu(self.fc1(x))\n",
    "        # fc2 layer with relu\n",
    "        x = F.relu(self.fc2(x))\n",
    "        # output with softmax\n",
    "        x = F.softmax(self.output(x), dim=1)\n",
    "        \n",
    "        return x"
   ]
  },
  {
   "cell_type": "markdown",
   "metadata": {},
   "source": [
    "## Initializing weights and biases\n",
    "\n",
    "The weights and such are automatically initialized for you, but it's possible to customize how they are initialized. The weights and biases are tensors attached to the layer you defined, you can get them with model.fc1.weight for instance."
   ]
  },
  {
   "cell_type": "code",
   "execution_count": 14,
   "metadata": {},
   "outputs": [
    {
     "name": "stdout",
     "output_type": "stream",
     "text": "Parameter containing:\ntensor([[ 0.0019,  0.0005, -0.0266,  ...,  0.0021,  0.0257,  0.0180],\n        [-0.0291,  0.0194,  0.0033,  ..., -0.0058, -0.0152, -0.0074],\n        [-0.0255,  0.0141, -0.0173,  ..., -0.0066,  0.0269,  0.0035],\n        ...,\n        [-0.0114,  0.0222,  0.0197,  ...,  0.0243,  0.0304,  0.0111],\n        [-0.0090, -0.0345, -0.0355,  ..., -0.0130,  0.0239, -0.0339],\n        [ 0.0088,  0.0205,  0.0327,  ..., -0.0091,  0.0315,  0.0055]],\n       requires_grad=True)\nParameter containing:\ntensor([-0.0660,  0.0226,  0.0190, -0.0048,  0.0687,  0.0601,  0.0095,  0.0831,\n        -0.0555,  0.0615,  0.0080, -0.0634, -0.0744,  0.0837, -0.0723, -0.0719,\n        -0.0452,  0.0254, -0.0870, -0.0049, -0.0622,  0.0144, -0.0481, -0.0137,\n        -0.0872,  0.0103, -0.0324, -0.0078,  0.0758,  0.0262,  0.0507, -0.0772,\n        -0.0630,  0.0543, -0.0660, -0.0076, -0.0600, -0.0876, -0.0111, -0.0600,\n         0.0067,  0.0650,  0.0283,  0.0037, -0.0137,  0.0008,  0.0788, -0.0840,\n         0.0520, -0.0189,  0.0870, -0.0449, -0.0344,  0.0330,  0.0337,  0.0435,\n         0.0269, -0.0876,  0.0611, -0.0386,  0.0516,  0.0582,  0.0432,  0.0299],\n       requires_grad=True)\n"
    }
   ],
   "source": [
    "model = Network()\n",
    "print(model.fc1.weight)\n",
    "print(model.fc2.bias)"
   ]
  },
  {
   "cell_type": "code",
   "execution_count": 15,
   "metadata": {},
   "outputs": [
    {
     "data": {
      "text/plain": "tensor([0., 0., 0., 0., 0., 0., 0., 0., 0., 0., 0., 0., 0., 0., 0., 0., 0., 0., 0., 0., 0., 0., 0., 0.,\n        0., 0., 0., 0., 0., 0., 0., 0., 0., 0., 0., 0., 0., 0., 0., 0., 0., 0., 0., 0., 0., 0., 0., 0.,\n        0., 0., 0., 0., 0., 0., 0., 0., 0., 0., 0., 0., 0., 0., 0., 0., 0., 0., 0., 0., 0., 0., 0., 0.,\n        0., 0., 0., 0., 0., 0., 0., 0., 0., 0., 0., 0., 0., 0., 0., 0., 0., 0., 0., 0., 0., 0., 0., 0.,\n        0., 0., 0., 0., 0., 0., 0., 0., 0., 0., 0., 0., 0., 0., 0., 0., 0., 0., 0., 0., 0., 0., 0., 0.,\n        0., 0., 0., 0., 0., 0., 0., 0.])"
     },
     "execution_count": 15,
     "metadata": {},
     "output_type": "execute_result"
    }
   ],
   "source": [
    "# Set biases to all zeros\n",
    "model.fc1.bias.data.fill_(0)"
   ]
  },
  {
   "cell_type": "code",
   "execution_count": 16,
   "metadata": {},
   "outputs": [
    {
     "name": "stdout",
     "output_type": "stream",
     "text": "Parameter containing:\ntensor([0., 0., 0., 0., 0., 0., 0., 0., 0., 0., 0., 0., 0., 0., 0., 0., 0., 0., 0., 0., 0., 0., 0., 0.,\n        0., 0., 0., 0., 0., 0., 0., 0., 0., 0., 0., 0., 0., 0., 0., 0., 0., 0., 0., 0., 0., 0., 0., 0.,\n        0., 0., 0., 0., 0., 0., 0., 0., 0., 0., 0., 0., 0., 0., 0., 0., 0., 0., 0., 0., 0., 0., 0., 0.,\n        0., 0., 0., 0., 0., 0., 0., 0., 0., 0., 0., 0., 0., 0., 0., 0., 0., 0., 0., 0., 0., 0., 0., 0.,\n        0., 0., 0., 0., 0., 0., 0., 0., 0., 0., 0., 0., 0., 0., 0., 0., 0., 0., 0., 0., 0., 0., 0., 0.,\n        0., 0., 0., 0., 0., 0., 0., 0.], requires_grad=True)\n"
    }
   ],
   "source": [
    "print(model.fc1.bias)"
   ]
  },
  {
   "cell_type": "code",
   "execution_count": 17,
   "metadata": {},
   "outputs": [
    {
     "data": {
      "text/plain": "tensor([[ 0.0013, -0.0097, -0.0107,  ...,  0.0088, -0.0066,  0.0040],\n        [-0.0093,  0.0021,  0.0107,  ...,  0.0003,  0.0007,  0.0027],\n        [ 0.0085, -0.0038,  0.0023,  ..., -0.0218, -0.0126,  0.0017],\n        ...,\n        [ 0.0034, -0.0230,  0.0046,  ...,  0.0049, -0.0056,  0.0109],\n        [-0.0020,  0.0027, -0.0104,  ...,  0.0089, -0.0030,  0.0080],\n        [ 0.0027,  0.0078, -0.0043,  ..., -0.0089,  0.0020,  0.0119]])"
     },
     "execution_count": 17,
     "metadata": {},
     "output_type": "execute_result"
    }
   ],
   "source": [
    "# sample from random normal with standard dev = 0.01\n",
    "model.fc1.weight.data.normal_(std=0.01)"
   ]
  },
  {
   "cell_type": "markdown",
   "metadata": {},
   "source": [
    "## Forward pass"
   ]
  },
  {
   "cell_type": "code",
   "execution_count": 18,
   "metadata": {},
   "outputs": [],
   "source": [
    "# Grab some data\n",
    "dataiter = iter(trainloader)\n",
    "images, labels = dataiter.next()\n",
    "\n",
    "images.resize_(64, 1, 784)\n",
    "\n",
    "# Forward pass through the network\n",
    "img_idx = 0\n",
    "ps = model.forward(images[img_idx,:])\n",
    "\n",
    "img = images[img_idx]"
   ]
  },
  {
   "cell_type": "code",
   "execution_count": 19,
   "metadata": {},
   "outputs": [
    {
     "data": {
      "image/png": "[encoded data removed]",
      "text/plain": "<Figure size 432x648 with 2 Axes>"
     },
     "metadata": {
      "image/png": {
       "height": 235,
       "width": 424
      },
      "needs_background": "light"
     },
     "output_type": "display_data"
    }
   ],
   "source": [
    "helper.view_classify(img.view(1, 28, 28), ps)"
   ]
  },
  {
   "cell_type": "markdown",
   "metadata": {},
   "source": [
    "## Using nn.Sequential\n",
    "\n",
    "It is an alternative way, as the 3rd option."
   ]
  },
  {
   "cell_type": "code",
   "execution_count": 20,
   "metadata": {},
   "outputs": [
    {
     "name": "stdout",
     "output_type": "stream",
     "text": "Sequential(\n  (0): Linear(in_features=784, out_features=128, bias=True)\n  (1): ReLU()\n  (2): Linear(in_features=128, out_features=64, bias=True)\n  (3): ReLU()\n  (4): Linear(in_features=64, out_features=10, bias=True)\n  (5): Softmax(dim=1)\n)\n"
    },
    {
     "data": {
      "image/png": "[encoded data removed]",
      "text/plain": "<Figure size 432x648 with 2 Axes>"
     },
     "metadata": {
      "image/png": {
       "height": 235,
       "width": 424
      },
      "needs_background": "light"
     },
     "output_type": "display_data"
    }
   ],
   "source": [
    "# Hyperparameters for our network\n",
    "input_size = 784\n",
    "hidden_size = [128, 64]\n",
    "output_size = 10\n",
    "\n",
    "# Build a feed-forward network\n",
    "model = nn.Sequential(\n",
    "            nn.Linear(input_size, hidden_size[0]),\n",
    "            nn.ReLU(),\n",
    "            nn.Linear(hidden_size[0], hidden_size[1]),\n",
    "            nn.ReLU(),\n",
    "            nn.Linear(hidden_size[1], output_size),\n",
    "            nn.Softmax(dim=1)\n",
    "        )\n",
    "\n",
    "print(model)\n",
    "\n",
    "# Forward pass through the network and display output\n",
    "images, labels = next(iter(trainloader))\n",
    "images.resize_(images.shape[0], 1, 784)\n",
    "ps = model.forward(images[0,:])\n",
    "helper.view_classify(images[0].view(1, 28, 28), ps)"
   ]
  },
  {
   "cell_type": "code",
   "execution_count": 21,
   "metadata": {},
   "outputs": [
    {
     "name": "stdout",
     "output_type": "stream",
     "text": "ReLU()\n"
    }
   ],
   "source": [
    "print(model[1])"
   ]
  },
  {
   "cell_type": "markdown",
   "metadata": {},
   "source": [
    "The operations are available by passing in the appropriate index.\n",
    "\n",
    "## Using nn.Sequential\n",
    "\n",
    "PyTorch provides a convenient way to build networks like this where a tensor is passed sequentially through operations, nn.Sequential (documentation). Using this to build the equivalent network:"
   ]
  },
  {
   "cell_type": "code",
   "execution_count": 22,
   "metadata": {},
   "outputs": [
    {
     "name": "stdout",
     "output_type": "stream",
     "text": "Sequential(\n  (0): Linear(in_features=784, out_features=128, bias=True)\n  (1): ReLU()\n  (2): Linear(in_features=128, out_features=64, bias=True)\n  (3): ReLU()\n  (4): Linear(in_features=64, out_features=10, bias=True)\n  (5): Softmax(dim=1)\n)\n"
    },
    {
     "data": {
      "image/png": "[encoded data removed]",
      "text/plain": "<Figure size 432x648 with 2 Axes>"
     },
     "metadata": {
      "image/png": {
       "height": 235,
       "width": 424
      },
      "needs_background": "light"
     },
     "output_type": "display_data"
    }
   ],
   "source": [
    "# Hyperparameters for our network\n",
    "input_size = 784\n",
    "hidden_sizes = [128, 64]\n",
    "output_size = 10\n",
    "\n",
    "# Build a feed-forward network\n",
    "model = nn.Sequential(nn.Linear(input_size, hidden_sizes[0]),\n",
    "                      nn.ReLU(),\n",
    "                      nn.Linear(hidden_sizes[0], hidden_sizes[1]),\n",
    "                      nn.ReLU(),\n",
    "                      nn.Linear(hidden_sizes[1], output_size),\n",
    "                      nn.Softmax(dim=1))\n",
    "print(model)\n",
    "\n",
    "# Forward pass through the network and display output\n",
    "images, labels = next(iter(trainloader))\n",
    "images.resize_(images.shape[0], 1, 784)\n",
    "ps = model.forward(images[0,:])\n",
    "helper.view_classify(images[0].view(1, 28, 28), ps)"
   ]
  },
  {
   "cell_type": "code",
   "execution_count": 23,
   "metadata": {},
   "outputs": [
    {
     "name": "stdout",
     "output_type": "stream",
     "text": "Linear(in_features=784, out_features=128, bias=True)\n"
    },
    {
     "data": {
      "text/plain": "Parameter containing:\ntensor([[ 0.0260,  0.0241, -0.0119,  ...,  0.0023, -0.0341, -0.0346],\n        [ 0.0145,  0.0296, -0.0237,  ...,  0.0150, -0.0257, -0.0052],\n        [ 0.0072, -0.0236, -0.0258,  ...,  0.0087, -0.0317, -0.0225],\n        ...,\n        [ 0.0265, -0.0063,  0.0099,  ...,  0.0130, -0.0111,  0.0266],\n        [ 0.0112, -0.0229,  0.0081,  ..., -0.0325, -0.0339,  0.0168],\n        [ 0.0157,  0.0356,  0.0256,  ...,  0.0286, -0.0296, -0.0275]],\n       requires_grad=True)"
     },
     "execution_count": 23,
     "metadata": {},
     "output_type": "execute_result"
    }
   ],
   "source": [
    "#For example, if you want to get first Linear operation and look at the weights, you'd use model[0].\n",
    "\n",
    "print(model[0])\n",
    "model[0].weight"
   ]
  },
  {
   "cell_type": "markdown",
   "metadata": {},
   "source": [
    "We can also pass in an *OrderedDict* to name the indiviual layers and operations. Note that dictionary keys must be unique."
   ]
  },
  {
   "cell_type": "code",
   "execution_count": 24,
   "metadata": {},
   "outputs": [
    {
     "data": {
      "text/plain": "Sequential(\n  (fc1): Linear(in_features=784, out_features=128, bias=True)\n  (relu1): ReLU()\n  (fc2): Linear(in_features=128, out_features=64, bias=True)\n  (relu2): ReLU()\n  (output): Linear(in_features=64, out_features=10, bias=True)\n  (softmax): Softmax(dim=1)\n)"
     },
     "execution_count": 24,
     "metadata": {},
     "output_type": "execute_result"
    }
   ],
   "source": [
    "from collections import OrderedDict\n",
    "\n",
    "model = nn.Sequential(OrderedDict([\n",
    "    ('fc1', nn.Linear(input_size, hidden_size[0])),\n",
    "    ('relu1', nn.ReLU()),\n",
    "    ('fc2', nn.Linear(hidden_size[0], hidden_size[1])),\n",
    "    ('relu2', nn.ReLU()),\n",
    "    ('output', nn.Linear(hidden_size[1], output_size)),\n",
    "    ('softmax', nn.Softmax(dim=1))\n",
    "]))\n",
    "model"
   ]
  },
  {
   "cell_type": "markdown",
   "metadata": {},
   "source": [
    "Now we can access layers either by integer or the name"
   ]
  },
  {
   "cell_type": "code",
   "execution_count": 25,
   "metadata": {},
   "outputs": [
    {
     "name": "stdout",
     "output_type": "stream",
     "text": "Linear(in_features=784, out_features=128, bias=True)\nLinear(in_features=784, out_features=128, bias=True)\n"
    }
   ],
   "source": [
    "print(model.fc1)\n",
    "print(model[0])"
   ]
  }
 ],
 "metadata": {
  "kernelspec": {
   "display_name": "Python 3.6.10 64-bit ('Intro2PyTorch': conda)",
   "language": "python",
   "name": "python361064bitintro2pytorchcondae9211d0515cf4928a057cbee7e6d59e9"
  },
  "language_info": {
   "codemirror_mode": {
    "name": "ipython",
    "version": 3
   },
   "file_extension": ".py",
   "mimetype": "text/x-python",
   "name": "python",
   "nbconvert_exporter": "python",
   "pygments_lexer": "ipython3",
   "version": "3.6.10-final"
  },
  "toc": {
   "base_numbering": 1,
   "nav_menu": {},
   "number_sections": true,
   "sideBar": true,
   "skip_h1_title": false,
   "title_cell": "Table of Contents",
   "title_sidebar": "Contents",
   "toc_cell": false,
   "toc_position": {},
   "toc_section_display": true,
   "toc_window_display": false
  },
  "varInspector": {
   "cols": {
    "lenName": 16,
    "lenType": 16,
    "lenVar": 40
   },
   "kernels_config": {
    "python": {
     "delete_cmd_postfix": "",
     "delete_cmd_prefix": "del ",
     "library": "var_list.py",
     "varRefreshCmd": "print(var_dic_list())"
    },
    "r": {
     "delete_cmd_postfix": ") ",
     "delete_cmd_prefix": "rm(",
     "library": "var_list.r",
     "varRefreshCmd": "cat(var_dic_list()) "
    }
   },
   "types_to_exclude": [
    "module",
    "function",
    "builtin_function_or_method",
    "instance",
    "_Feature"
   ],
   "window_display": false
  }
 },
 "nbformat": 4,
 "nbformat_minor": 2
}