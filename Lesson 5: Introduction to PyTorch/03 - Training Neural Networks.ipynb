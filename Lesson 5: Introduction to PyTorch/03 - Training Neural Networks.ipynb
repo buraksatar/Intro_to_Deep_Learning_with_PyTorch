{
 "cells": [
  {
   "cell_type": "markdown",
   "metadata": {},
   "source": [
    "The gradient is the slope of the loss function and points in the direction of fastest change.\n",
    "\n",
    "Backpropagation is really just an application of the chain rule from calculus.\n",
    "\n",
    "The goal is to adjust the weights and biases to minimize the loss.\n",
    "\n",
    "We update our weights using this gradient with some learning rate.\n",
    "\n",
    "*nn.CrossEntropyLoss* contains of *nn.LogSoftmax()* and *nn.NLLLoss()*."
   ]
  },
  {
   "cell_type": "code",
   "execution_count": 1,
   "metadata": {},
   "outputs": [],
   "source": [
    "import torch\n",
    "from torch import nn\n",
    "import torch.nn.functional as F\n",
    "from torchvision import datasets, transforms\n",
    "\n",
    "# Define a transform to normalize the data\n",
    "transform = transforms.Compose([\n",
    "                transforms.ToTensor(),\n",
    "                transforms.Normalize((0.5,), (0.5,)),\n",
    "            ])\n",
    "\n",
    "# Download and load the trainin data\n",
    "trainset = datasets.MNIST('~/.pytorch/MNIST_data/',\n",
    "                          download=True,\n",
    "                          train=True,\n",
    "                          transform=transform)\n",
    "\n",
    "trainloader = torch.utils.data.DataLoader(trainset,\n",
    "                                          batch_size=64,\n",
    "                                          shuffle=True)"
   ]
  },
  {
   "cell_type": "code",
   "execution_count": 9,
   "metadata": {},
   "outputs": [
    {
     "name": "stdout",
     "output_type": "stream",
     "text": [
      "tensor(2.3064, grad_fn=<NllLossBackward>)\n"
     ]
    }
   ],
   "source": [
    "# Build a feed-forward network\n",
    "model = nn.Sequential(nn.Linear(784, 128),\n",
    "                      nn.ReLU(),\n",
    "                      nn.Linear(128, 64),\n",
    "                      nn.ReLU(),\n",
    "                      nn.Linear(64, 10))\n",
    "\n",
    "# Define the loss\n",
    "criterion = nn.CrossEntropyLoss()\n",
    "\n",
    "# Get our data\n",
    "images, labels = next(iter(trainloader))\n",
    "# Flatten images\n",
    "images = images.view(images.shape[0], -1)\n",
    "\n",
    "# Forward pass, get our logits\n",
    "logits = model(images)\n",
    "# Calculate the loss with the logits and the labels\n",
    "loss = criterion(logits, labels)\n",
    "\n",
    "print(loss)"
   ]
  },
  {
   "cell_type": "markdown",
   "metadata": {},
   "source": [
    "**Exercise**\n",
    "\n",
    "Build a model that returns the log-softmax as the output and calculate the loss using the negative log likelihood loss."
   ]
  },
  {
   "cell_type": "code",
   "execution_count": 10,
   "metadata": {},
   "outputs": [
    {
     "name": "stdout",
     "output_type": "stream",
     "text": [
      "tensor(2.2887, grad_fn=<NllLossBackward>)\n"
     ]
    }
   ],
   "source": [
    "# Build a feed-forward network\n",
    "model = nn.Sequential(nn.Linear(784, 128),\n",
    "                      nn.ReLU(),\n",
    "                      nn.Linear(128, 64),\n",
    "                      nn.ReLU(),\n",
    "                      nn.Linear(64, 10),\n",
    "                      nn.LogSoftmax(dim=1))\n",
    "\n",
    "# Define the loss\n",
    "criterion = nn.NLLLoss()\n",
    "\n",
    "# Get our data\n",
    "images, labels = next(iter(trainloader))\n",
    "# Flatten images\n",
    "images = images.view(images.shape[0], -1)\n",
    "\n",
    "# Forward pass, get our logits\n",
    "logits = model(images)\n",
    "# Calculate the loss with the logits and the labels\n",
    "loss = criterion(logits, labels)\n",
    "\n",
    "print(loss)"
   ]
  },
  {
   "cell_type": "markdown",
   "metadata": {},
   "source": [
    "## Autograd\n",
    "\n",
    "Autograd works by keeping track of operations performed on tensors, then going backwards through those operations, calculating gradients along the way.\n",
    "\n",
    "To make sure PyTorch keeps track of operations on a tensor and calculates the gradients, you need to set *requires_grad=True* on a tensor."
   ]
  },
  {
   "cell_type": "code",
   "execution_count": 12,
   "metadata": {},
   "outputs": [
    {
     "data": {
      "text/plain": [
       "True"
      ]
     },
     "execution_count": 12,
     "metadata": {},
     "output_type": "execute_result"
    }
   ],
   "source": [
    "x = torch.zeros(1, requires_grad=True)\n",
    "x.requires_grad"
   ]
  },
  {
   "cell_type": "code",
   "execution_count": 14,
   "metadata": {},
   "outputs": [
    {
     "data": {
      "text/plain": [
       "False"
      ]
     },
     "execution_count": 14,
     "metadata": {},
     "output_type": "execute_result"
    }
   ],
   "source": [
    "with torch.no_grad():\n",
    "    y = x * 2\n",
    "y.requires_grad"
   ]
  },
  {
   "cell_type": "markdown",
   "metadata": {},
   "source": [
    "Also, you can turn on or off gradients altogether with *torch.set_grad_enabled(True|False)*\n",
    "\n",
    "The gradients are computed with respect to some variable z with z.backward(). This does a backward pass through the operations that created z."
   ]
  },
  {
   "cell_type": "code",
   "execution_count": 43,
   "metadata": {},
   "outputs": [
    {
     "name": "stdout",
     "output_type": "stream",
     "text": [
      "tensor([[-0.5407, -0.3887],\n",
      "        [-1.1343,  1.4291]], requires_grad=True)\n"
     ]
    }
   ],
   "source": [
    "x = torch.randn(2, 2, requires_grad=True)\n",
    "print(x)"
   ]
  },
  {
   "cell_type": "code",
   "execution_count": 44,
   "metadata": {},
   "outputs": [
    {
     "name": "stdout",
     "output_type": "stream",
     "text": [
      "tensor([[0.2924, 0.1511],\n",
      "        [1.2867, 2.0424]], grad_fn=<PowBackward0>)\n"
     ]
    }
   ],
   "source": [
    "y = x**2\n",
    "print(y)"
   ]
  },
  {
   "cell_type": "code",
   "execution_count": 45,
   "metadata": {},
   "outputs": [
    {
     "name": "stdout",
     "output_type": "stream",
     "text": [
      "<PowBackward0 object at 0x7f53bea39828>\n"
     ]
    }
   ],
   "source": [
    "# grad_fn shows the function that generated this Variable\n",
    "print(y.grad_fn)"
   ]
  },
  {
   "cell_type": "code",
   "execution_count": 46,
   "metadata": {},
   "outputs": [
    {
     "name": "stdout",
     "output_type": "stream",
     "text": [
      "tensor(0.9431, grad_fn=<MeanBackward0>)\n"
     ]
    }
   ],
   "source": [
    "z = y.mean()\n",
    "print(z)"
   ]
  },
  {
   "cell_type": "code",
   "execution_count": 47,
   "metadata": {},
   "outputs": [
    {
     "name": "stdout",
     "output_type": "stream",
     "text": [
      "None\n"
     ]
    }
   ],
   "source": [
    "print(x.grad)"
   ]
  },
  {
   "cell_type": "markdown",
   "metadata": {},
   "source": [
    "To calculate the gradients, you need to run the *.backward* method on a Variable, z for example."
   ]
  },
  {
   "cell_type": "code",
   "execution_count": 48,
   "metadata": {},
   "outputs": [
    {
     "name": "stdout",
     "output_type": "stream",
     "text": [
      "tensor([[-0.2704, -0.1944],\n",
      "        [-0.5672,  0.7146]])\n",
      "tensor([[-0.2704, -0.1944],\n",
      "        [-0.5672,  0.7146]], grad_fn=<DivBackward0>)\n"
     ]
    }
   ],
   "source": [
    "z.backward()\n",
    "print(x.grad)\n",
    "print(x/2)"
   ]
  },
  {
   "cell_type": "markdown",
   "metadata": {},
   "source": [
    "Once we have the gradients we can make a gradient descent step.\n",
    "\n",
    "## Loss and Autograd together"
   ]
  },
  {
   "cell_type": "code",
   "execution_count": 68,
   "metadata": {},
   "outputs": [],
   "source": [
    "# Build a feed-forward network\n",
    "model = nn.Sequential(nn.Linear(784, 128),\n",
    "                      nn.ReLU(),\n",
    "                      nn.Linear(128, 64),\n",
    "                      nn.ReLU(),\n",
    "                      nn.Linear(64, 10),\n",
    "                      nn.LogSoftmax(dim=1))\n",
    "\n",
    "# Define the loss\n",
    "criterion = nn.NLLLoss()\n",
    "\n",
    "# Get our data\n",
    "images, labels = next(iter(trainloader))\n",
    "# Flatten images\n",
    "images = images.view(images.shape[0], -1)\n",
    "\n",
    "# Forward pass, get our logits\n",
    "logits = model(images)\n",
    "# Calculate the loss with the logits and the labels\n",
    "loss = criterion(logits, labels)"
   ]
  },
  {
   "cell_type": "code",
   "execution_count": 69,
   "metadata": {},
   "outputs": [
    {
     "name": "stdout",
     "output_type": "stream",
     "text": [
      "Before backward pass: \n",
      " None\n",
      "After backward pass: \n",
      " tensor([[ 6.6671e-04,  6.6671e-04,  6.6671e-04,  ...,  6.6671e-04,\n",
      "          6.6671e-04,  6.6671e-04],\n",
      "        [-3.1967e-04, -3.1967e-04, -3.1967e-04,  ..., -3.1967e-04,\n",
      "         -3.1967e-04, -3.1967e-04],\n",
      "        [-3.3004e-03, -3.3004e-03, -3.3004e-03,  ..., -3.3004e-03,\n",
      "         -3.3004e-03, -3.3004e-03],\n",
      "        ...,\n",
      "        [ 2.1817e-03,  2.1817e-03,  2.1817e-03,  ...,  2.1817e-03,\n",
      "          2.1817e-03,  2.1817e-03],\n",
      "        [ 2.8524e-03,  2.8524e-03,  2.8524e-03,  ...,  2.8524e-03,\n",
      "          2.8524e-03,  2.8524e-03],\n",
      "        [-6.7993e-05, -6.7993e-05, -6.7993e-05,  ..., -6.7993e-05,\n",
      "         -6.7993e-05, -6.7993e-05]])\n"
     ]
    }
   ],
   "source": [
    "print('Before backward pass: \\n', model[0].weight.grad)\n",
    "\n",
    "loss.backward()\n",
    "\n",
    "print('After backward pass: \\n', model[0].weight.grad)"
   ]
  },
  {
   "cell_type": "markdown",
   "metadata": {},
   "source": [
    "## Training the network!\n",
    "\n",
    "We need an optimizer to use to update the weights with the gradients."
   ]
  },
  {
   "cell_type": "code",
   "execution_count": 70,
   "metadata": {},
   "outputs": [],
   "source": [
    "from torch import optim\n",
    "\n",
    "# Optimizers require the parameters to optimize and\n",
    "# a learning rate\n",
    "optimizer = optim.SGD(model.parameters(),\n",
    "                      lr=0.01)"
   ]
  },
  {
   "cell_type": "markdown",
   "metadata": {},
   "source": [
    "The general process with PyTorch:\n",
    "- Make a forward pass through the network\n",
    "- Use the network output to calculate the loss\n",
    "- Perform a backward pass through the network with loss.backward() to calculate the gradients\n",
    "- Take a step with the optimizer to update the weights\n",
    "\n",
    "Remember to use *optimizer.zero_grad()*. When you do multiple backwards passes with the same parameters, the gradients are accumulated. This means we need to zero the gradients on each training pass or we'll retain gradients from previous training batches.\n",
    "\n",
    "Here is the one training step:"
   ]
  },
  {
   "cell_type": "code",
   "execution_count": 71,
   "metadata": {},
   "outputs": [
    {
     "name": "stdout",
     "output_type": "stream",
     "text": [
      "Initial weights -  Parameter containing:\n",
      "tensor([[-0.0295, -0.0119, -0.0168,  ...,  0.0261,  0.0348, -0.0116],\n",
      "        [-0.0152,  0.0066, -0.0011,  ...,  0.0141,  0.0269,  0.0354],\n",
      "        [-0.0171,  0.0020,  0.0200,  ...,  0.0196,  0.0241,  0.0237],\n",
      "        ...,\n",
      "        [ 0.0350, -0.0191,  0.0135,  ..., -0.0206,  0.0184, -0.0062],\n",
      "        [ 0.0070,  0.0244,  0.0142,  ..., -0.0082, -0.0132, -0.0078],\n",
      "        [-0.0336,  0.0125,  0.0171,  ...,  0.0145,  0.0023, -0.0148]],\n",
      "       requires_grad=True)\n",
      "Gradient -  tensor([[-1.0036e-05, -1.0036e-05, -1.0036e-05,  ..., -1.0036e-05,\n",
      "         -1.0036e-05, -1.0036e-05],\n",
      "        [ 1.8668e-03,  1.8668e-03,  1.8668e-03,  ...,  1.8668e-03,\n",
      "          1.8668e-03,  1.8668e-03],\n",
      "        [ 6.9936e-04,  6.9936e-04,  6.9936e-04,  ...,  6.9936e-04,\n",
      "          6.9936e-04,  6.9936e-04],\n",
      "        ...,\n",
      "        [ 2.4665e-03,  2.4665e-03,  2.4665e-03,  ...,  2.4665e-03,\n",
      "          2.4665e-03,  2.4665e-03],\n",
      "        [-1.5956e-04, -1.5956e-04, -1.5956e-04,  ..., -1.5956e-04,\n",
      "         -1.5956e-04, -1.5956e-04],\n",
      "        [ 1.3468e-03,  1.3468e-03,  1.3468e-03,  ...,  1.3468e-03,\n",
      "          1.3468e-03,  1.3468e-03]])\n"
     ]
    }
   ],
   "source": [
    "print('Initial weights - ', model[0].weight)\n",
    "\n",
    "images, labels = next(iter(trainloader))\n",
    "images.resize_(64, 784)\n",
    "\n",
    "# Clear the gradients\n",
    "optimizer.zero_grad()\n",
    "\n",
    "# Forward pass, then backward pass and update weights\n",
    "output = model(images)\n",
    "loss = criterion(output, labels)\n",
    "loss.backward()\n",
    "print('Gradient - ', model[0].weight.grad)"
   ]
  },
  {
   "cell_type": "code",
   "execution_count": 72,
   "metadata": {},
   "outputs": [
    {
     "name": "stdout",
     "output_type": "stream",
     "text": [
      "Initial weights -  Parameter containing:\n",
      "tensor([[-0.0295, -0.0119, -0.0168,  ...,  0.0261,  0.0348, -0.0116],\n",
      "        [-0.0152,  0.0066, -0.0011,  ...,  0.0141,  0.0269,  0.0354],\n",
      "        [-0.0171,  0.0020,  0.0200,  ...,  0.0196,  0.0241,  0.0237],\n",
      "        ...,\n",
      "        [ 0.0350, -0.0191,  0.0135,  ..., -0.0206,  0.0184, -0.0062],\n",
      "        [ 0.0070,  0.0244,  0.0142,  ..., -0.0082, -0.0132, -0.0078],\n",
      "        [-0.0336,  0.0125,  0.0171,  ...,  0.0145,  0.0023, -0.0148]],\n",
      "       requires_grad=True)\n"
     ]
    }
   ],
   "source": [
    "# Take an update step and few the new weights\n",
    "optimizer.step()\n",
    "print('Initial weights - ', model[0].weight)"
   ]
  },
  {
   "cell_type": "markdown",
   "metadata": {},
   "source": [
    "## Training for real\n",
    "\n",
    "one pass through the entire dataset is called an epoch. \n",
    "\n",
    "**Exercise**\n",
    "\n",
    "Implement the training pass for our network."
   ]
  },
  {
   "cell_type": "code",
   "execution_count": 73,
   "metadata": {},
   "outputs": [
    {
     "name": "stdout",
     "output_type": "stream",
     "text": [
      "Training loss:                 1.83877502473941\n",
      "Training loss:                 0.7996465953618987\n",
      "Training loss:                 0.5178606588480823\n",
      "Training loss:                 0.4257783250355009\n",
      "Training loss:                 0.3812331702313952\n"
     ]
    }
   ],
   "source": [
    "# Build a feed-forward network\n",
    "model = nn.Sequential(nn.Linear(784, 128),\n",
    "                      nn.ReLU(),\n",
    "                      nn.Linear(128, 64),\n",
    "                      nn.ReLU(),\n",
    "                      nn.Linear(64, 10),\n",
    "                      nn.LogSoftmax(dim=1))\n",
    "\n",
    "# Define the loss\n",
    "criterion = nn.NLLLoss()\n",
    "optimizer = optim.SGD(model.parameters(),\n",
    "                      lr=0.003)\n",
    "\n",
    "epochs = 5\n",
    "\n",
    "for epoch in range(epochs):\n",
    "    running_loss = 0\n",
    "    \n",
    "    for images, labels in trainloader:\n",
    "        # Flatten MNIST images\n",
    "        images = images.view(images.shape[0], -1)\n",
    "        \n",
    "        # Clear the gradients\n",
    "        optimizer.zero_grad()\n",
    "        # Forward pass, get our logits\n",
    "        logits = model(images)\n",
    "        # Calculate the loss with the logits and the labels\n",
    "        loss = criterion(logits, labels)\n",
    "        loss.backward()\n",
    "        # Take an update step and few the new weights\n",
    "        optimizer.step()\n",
    "        running_loss += loss.item()\n",
    "    else:\n",
    "        print(f\"Training loss: \\\n",
    "                {running_loss/len(trainloader)}\")"
   ]
  },
  {
   "cell_type": "code",
   "execution_count": 75,
   "metadata": {},
   "outputs": [
    {
     "data": {
      "image/png": "[encoded data removed]",
      "text/plain": [
       "<matplotlib.figure.Figure at 0x7f53b875ce10>"
      ]
     },
     "metadata": {
      "needs_background": "light"
     },
     "output_type": "display_data"
    }
   ],
   "source": [
    "%matplotlib inline\n",
    "import helper\n",
    "\n",
    "images, labels = next(iter(trainloader))\n",
    "\n",
    "img = images[0].view(1, 784)\n",
    "\n",
    "# Turn off gradients to speed up this part\n",
    "with torch.no_grad():\n",
    "    logps = model(img)\n",
    "    \n",
    "# output the network are log-probabilities,\n",
    "# need to take exponential for probabilities\n",
    "ps = torch.exp(logps)\n",
    "helper.view_classify(img.view(1, 28, 28), ps)"
   ]
  }
 ],
 "metadata": {
  "kernelspec": {
   "display_name": "Python 3",
   "language": "python",
   "name": "python3"
  },
  "language_info": {
   "codemirror_mode": {
    "name": "ipython",
    "version": 3
   },
   "file_extension": ".py",
   "mimetype": "text/x-python",
   "name": "python",
   "nbconvert_exporter": "python",
   "pygments_lexer": "ipython3",
   "version": "3.6.9"
  },
  "toc": {
   "base_numbering": 1,
   "nav_menu": {},
   "number_sections": true,
   "sideBar": true,
   "skip_h1_title": false,
   "title_cell": "Table of Contents",
   "title_sidebar": "Contents",
   "toc_cell": false,
   "toc_position": {},
   "toc_section_display": true,
   "toc_window_display": false
  },
  "varInspector": {
   "cols": {
    "lenName": 16,
    "lenType": 16,
    "lenVar": 40
   },
   "kernels_config": {
    "python": {
     "delete_cmd_postfix": "",
     "delete_cmd_prefix": "del ",
     "library": "var_list.py",
     "varRefreshCmd": "print(var_dic_list())"
    },
    "r": {
     "delete_cmd_postfix": ") ",
     "delete_cmd_prefix": "rm(",
     "library": "var_list.r",
     "varRefreshCmd": "cat(var_dic_list()) "
    }
   },
   "types_to_exclude": [
    "module",
    "function",
    "builtin_function_or_method",
    "instance",
    "_Feature"
   ],
   "window_display": false
  }
 },
 "nbformat": 4,
 "nbformat_minor": 2
}
