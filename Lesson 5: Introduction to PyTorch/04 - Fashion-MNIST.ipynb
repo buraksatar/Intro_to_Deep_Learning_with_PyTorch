{
 "cells": [
  {
   "cell_type": "code",
   "execution_count": 1,
   "metadata": {},
   "outputs": [],
   "source": [
    "import torch\n",
    "from torchvision import datasets, transforms\n",
    "import helper\n",
    "\n",
    "# Define a transform to normalize the data\n",
    "transform = transforms.Compose([\n",
    "                transforms.ToTensor(),\n",
    "                transforms.Normalize((0.5,), (0.5,))\n",
    "])\n",
    "# Download and load the training data\n",
    "trainset = datasets.FashionMNIST('~/.pytorch/F_MNIST_data',\n",
    "                                 download=True,\n",
    "                                 train=True,\n",
    "                                 transform=transform)\n",
    "trainloader = torch.utils.data.DataLoader(\n",
    "                    trainset,\n",
    "                    batch_size=64,\n",
    "                    shuffle=True)\n",
    "\n",
    "# Download and load the test data\n",
    "testset = datasets.FashionMNIST('~/.pytorch/F_MNIST_data/',\n",
    "                                download=True,\n",
    "                                train=False,\n",
    "                                transform=transform)\n",
    "testloader = torch.utils.data.DataLoader(testset,\n",
    "                                         batch_size=64,\n",
    "                                         shuffle=True)"
   ]
  },
  {
   "cell_type": "markdown",
   "execution_count": 1,
   "metadata": {},
   "outputs": [
    {
     "ename": "SyntaxError",
     "evalue": "invalid syntax (<ipython-input-1-3d45ec4cbd0a>, line 1)",
     "output_type": "error",
     "traceback": [
      "\u001b[0;36m  File \u001b[0;32m\"<ipython-input-1-3d45ec4cbd0a>\"\u001b[0;36m, line \u001b[0;32m1\u001b[0m\n\u001b[0;31m    Here we can see one of the images\u001b[0m\n\u001b[0m          ^\u001b[0m\n\u001b[0;31mSyntaxError\u001b[0m\u001b[0;31m:\u001b[0m invalid syntax\n"
     ]
    }
   ],
   "source": [
    "Here we can see one of the images"
   ]
  },
  {
   "cell_type": "code",
   "execution_count": 2,
   "metadata": {},
   "outputs": [
    {
     "data": {
      "text/plain": "<matplotlib.axes._subplots.AxesSubplot at 0x7f012006e550>"
     },
     "execution_count": 2,
     "metadata": {},
     "output_type": "execute_result"
    },
    {
     "data": {
      "image/png": "[encoded data removed]",
      "image/svg+xml": "<?xml version=\"1.0\" encoding=\"utf-8\" standalone=\"no\"?>\n<!DOCTYPE svg PUBLIC \"-//W3C//DTD SVG 1.1//EN\"\n  \"http://www.w3.org/Graphics/SVG/1.1/DTD/svg11.dtd\">\n<!-- Created with matplotlib (https://matplotlib.org/) -->\n<svg height=\"231.84pt\" version=\"1.1\" viewBox=\"0 0 231.84 231.84\" width=\"231.84pt\" xmlns=\"http://www.w3.org/2000/svg\" xmlns:xlink=\"http://www.w3.org/1999/xlink\">\n <defs>\n  <style type=\"text/css\">\n*{stroke-linecap:butt;stroke-linejoin:round;}\n  </style>\n </defs>\n <g id=\"figure_1\">\n  <g id=\"patch_1\">\n   <path d=\"M 0 231.84 \nL 231.84 231.84 \nL 231.84 0 \nL 0 0 \nz\n\" style=\"fill:none;\"/>\n  </g>\n  <g id=\"axes_1\">\n   <g id=\"patch_2\">\n    <path d=\"M 7.2 224.64 \nL 224.64 224.64 \nL 224.64 7.2 \nL 7.2 7.2 \nz\n\" style=\"fill:#ffffff;\"/>\n   </g>\n   <g clip-path=\"url(#p62c41cdca1)\">\n    <image height=\"218\" id=\"image08cb93233a\" transform=\"scale(1 -1)translate(0 -218)\" width=\"218\" x=\"7.2\" xlink:href=\"data:image/png;base64,\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\" y=\"-6.64\"/>\n   </g>\n   <g id=\"matplotlib.axis_1\">\n    <g id=\"xtick_1\">\n     <g id=\"line2d_1\"/>\n    </g>\n    <g id=\"xtick_2\">\n     <g id=\"line2d_2\"/>\n    </g>\n    <g id=\"xtick_3\">\n     <g id=\"line2d_3\"/>\n    </g>\n    <g id=\"xtick_4\">\n     <g id=\"line2d_4\"/>\n    </g>\n    <g id=\"xtick_5\">\n     <g id=\"line2d_5\"/>\n    </g>\n    <g id=\"xtick_6\">\n     <g id=\"line2d_6\"/>\n    </g>\n   </g>\n   <g id=\"matplotlib.axis_2\">\n    <g id=\"ytick_1\">\n     <g id=\"line2d_7\"/>\n    </g>\n    <g id=\"ytick_2\">\n     <g id=\"line2d_8\"/>\n    </g>\n    <g id=\"ytick_3\">\n     <g id=\"line2d_9\"/>\n    </g>\n    <g id=\"ytick_4\">\n     <g id=\"line2d_10\"/>\n    </g>\n    <g id=\"ytick_5\">\n     <g id=\"line2d_11\"/>\n    </g>\n    <g id=\"ytick_6\">\n     <g id=\"line2d_12\"/>\n    </g>\n   </g>\n  </g>\n </g>\n <defs>\n  <clipPath id=\"p62c41cdca1\">\n   <rect height=\"217.44\" width=\"217.44\" x=\"7.2\" y=\"7.2\"/>\n  </clipPath>\n </defs>\n</svg>\n",
      "text/plain": "<Figure size 432x288 with 1 Axes>"
     },
     "metadata": {
      "needs_background": "light"
     },
     "output_type": "display_data"
    }
   ],
   "source": [
    "image, label = next(iter(trainloader))\n",
    "helper.imshow(image[0,:])"
   ]
  },
  {
   "cell_type": "markdown",
   "metadata": {},
   "source": [
    "# Option 1\n",
    "\n",
    "## Building the Network\n",
    "\n",
    "Each image is 28x28 which is total of 784 pixels, and there are 10 classes. Use at least one hidden layer. Use ReLU for hidden layers."
   ]
  },
  {
   "cell_type": "code",
   "execution_count": 3,
   "metadata": {},
   "outputs": [],
   "source": [
    "# Define the network architecture\n",
    "from torch import nn\n",
    "from torch import optim\n",
    "\n",
    "model = nn.Sequential(nn.Linear(784,256),\n",
    "                      nn.ReLU(),\n",
    "                      nn.Linear(256,64),\n",
    "                      nn.ReLU(),\n",
    "                      nn.Linear(64,10),\n",
    "                      nn.LogSoftmax(dim=1))\n",
    "\n",
    "criterion = nn.NLLLoss()\n",
    "optimizer = optim.Adam(model.parameters(), lr=0.001)"
   ]
  },
  {
   "cell_type": "markdown",
   "metadata": {},
   "source": [
    "## Train the network"
   ]
  },
  {
   "cell_type": "code",
   "execution_count": 4,
   "metadata": {},
   "outputs": [
    {
     "name": "stdout",
     "output_type": "stream",
     "text": "Training loss:                 0.4966338259070667\nTraining loss:                 0.369042810966084\nTraining loss:                 0.32962941148006586\nTraining loss:                 0.30642958998139985\nTraining loss:                 0.2857899714841136\n"
    }
   ],
   "source": [
    "epochs = 5\n",
    "\n",
    "for epoch in range(epochs):\n",
    "    \n",
    "    running_loss = 0\n",
    "    \n",
    "    for images, labels in trainloader:\n",
    "        \n",
    "        # Flatten the images\n",
    "        images = images.view(images.shape[0], -1)\n",
    "        \n",
    "        optimizer.zero_grad()\n",
    "        \n",
    "        logits = model(images)\n",
    "        \n",
    "        loss = criterion(logits, labels)\n",
    "        \n",
    "        loss.backward()\n",
    "        \n",
    "        optimizer.step()\n",
    "        \n",
    "        running_loss += loss.item()\n",
    "        \n",
    "    else:\n",
    "        print(f\"Training loss: \\\n",
    "                {running_loss/len(trainloader)}\")"
   ]
  },
  {
   "cell_type": "code",
   "execution_count": 5,
   "metadata": {},
   "outputs": [
    {
     "name": "stdout",
     "output_type": "stream",
     "text": "tensor([[-1.2841e+01, -1.4127e+01, -1.6992e+01, -1.3865e+01, -1.1550e+01,\n         -6.0945e+00, -1.2336e+01, -2.4835e-03, -8.7618e+00, -9.9012e+00]])\n"
    }
   ],
   "source": [
    "%matplotlib inline\n",
    "%config InlineBackend.figure_format = 'retina'\n",
    "\n",
    "import helper\n",
    "\n",
    "dataiter = iter(testloader)\n",
    "images, labels = dataiter.next()\n",
    "img = images[0]\n",
    "# Conver 2D image to 1D vector\n",
    "img = img.resize_(1,784)\n",
    "\n",
    "# Turn off gradients to speed up this part\n",
    "with torch.no_grad():\n",
    "    logps = model(img)\n",
    "\n",
    "print(logps)"
   ]
  },
  {
   "cell_type": "code",
   "execution_count": 6,
   "metadata": {},
   "outputs": [
    {
     "data": {
      "image/png": "[encoded data removed]",
      "text/plain": "<Figure size 432x648 with 2 Axes>"
     },
     "metadata": {
      "image/png": {
       "height": 216,
       "width": 424
      },
      "needs_background": "light"
     },
     "output_type": "display_data"
    }
   ],
   "source": [
    "# Calculate the class probabilities for img\n",
    "ps = torch.exp(logps)\n",
    "print\n",
    "helper.view_classify(img.resize_(1,28,28),\n",
    "                     ps,\n",
    "                     version='Fashion')"
   ]
  },
  {
   "cell_type": "markdown",
   "metadata": {},
   "source": [
    "# Option 2\n",
    "\n",
    "## Building the network"
   ]
  },
  {
   "cell_type": "code",
   "execution_count": 7,
   "metadata": {},
   "outputs": [],
   "source": [
    "from torch import nn, optim\n",
    "import torch.nn.functional as F"
   ]
  },
  {
   "cell_type": "code",
   "execution_count": 8,
   "metadata": {},
   "outputs": [],
   "source": [
    "# Define the network architecture\n",
    "class Classifier(nn.Module):\n",
    "    def __init__(self):\n",
    "        super().__init__()\n",
    "        self.fc1 = nn.Linear(784, 256)\n",
    "        self.fc2 = nn.Linear(256, 128)\n",
    "        self.fc3 = nn.Linear(128, 64)\n",
    "        self.fc4 = nn.Linear(64, 10)\n",
    "        \n",
    "    def forward(self, x):\n",
    "        # make sure input tensor is flattened\n",
    "        x = x.view(x.shape[0], -1)\n",
    "        \n",
    "        x = F.relu(self.fc1(x))\n",
    "        x = F.relu(self.fc2(x))\n",
    "        x = F.relu(self.fc3(x))\n",
    "        x = F.log_softmax(self.fc4(x), dim=1)\n",
    "        \n",
    "        return x"
   ]
  },
  {
   "cell_type": "markdown",
   "metadata": {},
   "source": [
    "## Train the network"
   ]
  },
  {
   "cell_type": "code",
   "execution_count": 9,
   "metadata": {},
   "outputs": [],
   "source": [
    "model = Classifier()\n",
    "criterion = nn.NLLLoss()\n",
    "optimizer = optim.Adam(model.parameters(), lr=0.003)"
   ]
  },
  {
   "cell_type": "code",
   "execution_count": 10,
   "metadata": {},
   "outputs": [
    {
     "name": "stdout",
     "output_type": "stream",
     "text": "Training loss: 0.514847291113217\nTraining loss: 0.39285342168134413\nTraining loss: 0.3557497617929602\nTraining loss: 0.3308628025387269\nTraining loss: 0.31658118535905505\n"
    }
   ],
   "source": [
    "# Train the network\n",
    "epochs = 5\n",
    "for epoch in range(epochs):\n",
    "    running_loss = 0\n",
    "    \n",
    "    for images, labels in trainloader:\n",
    "        \n",
    "        optimizer.zero_grad()\n",
    "        \n",
    "        logps = model(images)\n",
    "        loss = criterion(logps, labels)\n",
    "        \n",
    "        loss.backward()\n",
    "        optimizer.step()\n",
    "        \n",
    "        running_loss += loss.item()\n",
    "    else:\n",
    "        print(f'Training loss: {running_loss/len(trainloader)}')"
   ]
  },
  {
   "cell_type": "code",
   "execution_count": 11,
   "metadata": {},
   "outputs": [
    {
     "data": {
      "image/png": "[encoded data removed]",
      "text/plain": "<Figure size 432x648 with 2 Axes>"
     },
     "metadata": {
      "image/png": {
       "height": 216,
       "width": 424
      },
      "needs_background": "light"
     },
     "output_type": "display_data"
    }
   ],
   "source": [
    "%matplotlib inline\n",
    "%config InlineBackend.figure_format = 'retina'\n",
    "\n",
    "import helper\n",
    "\n",
    "# test out the network\n",
    "dataiter = iter(testloader)\n",
    "images, labels = dataiter.next()\n",
    "img = images[1]\n",
    "\n",
    "# Calculate the class probabilities for img\n",
    "ps = torch.exp(model(img))\n",
    "\n",
    "# Plot the image and probabilities\n",
    "helper.view_classify(img, ps, version='Fashion')"
   ]
  },
  {
   "cell_type": "code",
   "execution_count": null,
   "metadata": {},
   "outputs": [],
   "source": []
  }
 ],
 "metadata": {
  "kernelspec": {
   "display_name": "Python 3.6.10 64-bit ('Intro2PyTorch': conda)",
   "language": "python",
   "name": "python361064bitintro2pytorchcondae9211d0515cf4928a057cbee7e6d59e9"
  },
  "language_info": {
   "codemirror_mode": {
    "name": "ipython",
    "version": 3
   },
   "file_extension": ".py",
   "mimetype": "text/x-python",
   "name": "python",
   "nbconvert_exporter": "python",
   "pygments_lexer": "ipython3",
   "version": "3.6.10-final"
  },
  "toc": {
   "base_numbering": 1,
   "nav_menu": {},
   "number_sections": true,
   "sideBar": true,
   "skip_h1_title": false,
   "title_cell": "Table of Contents",
   "title_sidebar": "Contents",
   "toc_cell": false,
   "toc_position": {},
   "toc_section_display": true,
   "toc_window_display": false
  },
  "varInspector": {
   "cols": {
    "lenName": 16,
    "lenType": 16,
    "lenVar": 40
   },
   "kernels_config": {
    "python": {
     "delete_cmd_postfix": "",
     "delete_cmd_prefix": "del ",
     "library": "var_list.py",
     "varRefreshCmd": "print(var_dic_list())"
    },
    "r": {
     "delete_cmd_postfix": ") ",
     "delete_cmd_prefix": "rm(",
     "library": "var_list.r",
     "varRefreshCmd": "cat(var_dic_list()) "
    }
   },
   "types_to_exclude": [
    "module",
    "function",
    "builtin_function_or_method",
    "instance",
    "_Feature"
   ],
   "window_display": false
  }
 },
 "nbformat": 4,
 "nbformat_minor": 2
}